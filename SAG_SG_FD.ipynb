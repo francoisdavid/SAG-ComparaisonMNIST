{
 "cells": [
  {
   "cell_type": "markdown",
   "metadata": {},
   "source": [
    "### Projet de IFT6512 de François David  -  Matricule: 20171906\n",
    "### Enseignant: Dr. Fabian Bastin\n",
    "#### Université de Montréal - Hiver 2020  - Jeudi, le 30 Avril, 2020"
   ]
  },
  {
   "cell_type": "markdown",
   "metadata": {},
   "source": [
    "Dans ce projet, je compare les 3 méthodes d'algorithmes de convergence discutés dans l'article “Minimizing Finite Sums with Stochastic Average Gradient” écrit par Mark Schmidt, Nicolas Le Roux & Francis Bach. \n",
    "Les trois méthodes sont le Stocastic Gradient (SG), le Finite Difference  (FD) ainsi que le Stochastic Average Gradient (SAG). Par la suite, je discute les conditions d'arrêts des algorithmes et je les compare avec une technique de rétrospective approximation. Chacun de ceux-ci est testé sur le MNIST, un exercice de classification d'images. "
   ]
  },
  {
   "cell_type": "markdown",
   "metadata": {},
   "source": [
    "Importation des librairies nécessaire.  "
   ]
  },
  {
   "cell_type": "code",
   "execution_count": 1,
   "metadata": {},
   "outputs": [],
   "source": [
    "import pickle\n",
    "import numpy as np\n",
    "import gzip\n",
    "from random import randint\n",
    "import timeit\n",
    "import matplotlib.pyplot as plt"
   ]
  },
  {
   "cell_type": "markdown",
   "metadata": {},
   "source": [
    "Utilisation de fonction qui charge le DataSet \"MNIST\", pour la classification d'images de chiffres écrits à la main allants de 0 à 9, chaque image est composé de 784 pixels. J'ai décidé d'utiliser toutes les 50 000 images accessibles de l'ensemble d'apprentissage et toutes les images de l'ensemble de validation disponnibles (5000).\n",
    "Il y  a donc 50 000 paires d'images et de labels (numéro correspondant à ce que l'image associée représente) pour l'entrainement,  5000 paires pour la validation."
   ]
  },
  {
   "cell_type": "code",
   "execution_count": 7,
   "metadata": {},
   "outputs": [],
   "source": [
    "def one_hot(y, n_classes=10):\n",
    "    return np.eye(n_classes)[y]\n",
    "def load_mnist():\n",
    "    data_file = gzip.open(\"mnist.pkl.gz\", \"rb\")\n",
    "    train_data, val_data, test_data = pickle.load(data_file, encoding=\"latin1\")\n",
    "    data_file.close()\n",
    "\n",
    "    train_inputs = [np.reshape(x, (784, 1)) for x in train_data[0][:20000]]\n",
    "    train_results = [one_hot(y, 10) for y in train_data[1][:20000]]\n",
    "    train_data = np.array(train_inputs).reshape(-1, 784), np.array(train_results).reshape(-1, 10)\n",
    "\n",
    "    val_inputs = [np.reshape(x, (784, 1)) for x in val_data[0][:3000]]\n",
    "    val_results = [one_hot(y, 10) for y in val_data[1][:3000]]\n",
    "    val_data = np.array(val_inputs).reshape(-1, 784), np.array(val_results).reshape(-1, 10)\n",
    "\n",
    "    return train_data, val_data"
   ]
  },
  {
   "cell_type": "code",
   "execution_count": 58,
   "metadata": {},
   "outputs": [],
   "source": [
    "def one_hot(y, n_classes=10):\n",
    "    return np.eye(n_classes)[y]\n",
    "def load_mnist():\n",
    "    data_file = gzip.open(\"mnist.pkl.gz\", \"rb\")\n",
    "    train_data, val_data, test_data = pickle.load(data_file, encoding=\"latin1\")\n",
    "    data_file.close()\n",
    "\n",
    "    train_inputs = [np.reshape(x, (784, 1)) for x in train_data[0]]\n",
    "    train_results = [one_hot(y, 10) for y in train_data[1]]\n",
    "    train_data = np.array(train_inputs).reshape(-1, 784), np.array(train_results).reshape(-1, 10)\n",
    "\n",
    "    val_inputs = [np.reshape(x, (784, 1)) for x in val_data[0]]\n",
    "    val_results = [one_hot(y, 10) for y in val_data[1]]\n",
    "    val_data = np.array(val_inputs).reshape(-1, 784), np.array(val_results).reshape(-1, 10)\n",
    "\n",
    "    return train_data, val_data"
   ]
  },
  {
   "cell_type": "code",
   "execution_count": 59,
   "metadata": {},
   "outputs": [],
   "source": [
    "train, valid = load_mnist()"
   ]
  },
  {
   "cell_type": "markdown",
   "metadata": {},
   "source": [
    "Définition des fonctions nécessaire pour les algorithms, mais communes au 3 algorithmes.  Certaines petites parties de code ont été adapté du repository git : https://github.com/CW-Huang"
   ]
  },
  {
   "cell_type": "code",
   "execution_count": 73,
   "metadata": {},
   "outputs": [],
   "source": [
    "def initialize_weights( dims, hidden_dims):\n",
    "        weights = {}\n",
    "        # Dictionnaire pour les bias et weights de chaque layers\n",
    "        all_dims = [dims[0]] + list(hidden_dims) + [dims[1]]\n",
    "       \n",
    "        for layer_n in range(1, len(hidden_dims) + 2):\n",
    "            # Initialize biases to 0.\n",
    "            weights[f\"b{layer_n}\"] = np.zeros((1, all_dims[layer_n]))\n",
    "            # glorot initialization.\n",
    "            dl = np.sqrt(6)/np.sqrt(all_dims[layer_n - 1] + all_dims[layer_n])\n",
    "            weights[f\"W{layer_n}\"] = np.random.uniform(-dl, dl, (all_dims[layer_n - 1], all_dims[layer_n]))\n",
    "        return weights"
   ]
  },
  {
   "cell_type": "markdown",
   "metadata": {},
   "source": [
    "Fonction de propagation vers l'avant, commune au 3 algorithmes. "
   ]
  },
  {
   "cell_type": "code",
   "execution_count": 10,
   "metadata": {},
   "outputs": [],
   "source": [
    " def forward(x, weights, hidden_dims):\n",
    "        cache = {\"Z0\": x}\n",
    "        for layer in range(1, len(hidden_dims) + 2):\n",
    "            # Créer  une variable qui va calculer les chaques inputs avec les  weights + le bias. \n",
    "            cache[f\"A{layer}\"] = np.dot(cache[f\"Z{layer-1}\"], weights[f\"W{layer}\"]) + weights[f\"b{layer}\"]\n",
    "            if layer == len(hidden_dims) + 1:\n",
    "                # Activation  de l'output pour créer une distribution de probabilité.\n",
    "                cache[f\"Z{layer}\"] = softmax(cache[f\"A{layer}\"])\n",
    "            else:\n",
    "                # Activation de cette layer.\n",
    "                cache[f\"Z{layer}\"] = relu(cache[f\"A{layer}\"])\n",
    "        return cache"
   ]
  },
  {
   "cell_type": "markdown",
   "metadata": {},
   "source": [
    "Fonction pour transformer les outputs en une distribution discrete de probabilité, commune au 3 algorithmes."
   ]
  },
  {
   "cell_type": "code",
   "execution_count": 11,
   "metadata": {},
   "outputs": [],
   "source": [
    "def softmax(x):\n",
    "        if len(x.shape) == 1:\n",
    "            newVector = np.exp(x - np.max(x))\n",
    "            return newVector / np.sum(newVector, axis=0, keepdims=True)\n",
    "        else:\n",
    "            newVector = np.exp(x - np.max(x, axis=1, keepdims=True))\n",
    "            return newVector / np.sum(newVector, axis=1, keepdims=True)"
   ]
  },
  {
   "cell_type": "markdown",
   "metadata": {},
   "source": [
    "Fonction d'activation, commune au 3 algorithmes. "
   ]
  },
  {
   "cell_type": "code",
   "execution_count": 12,
   "metadata": {},
   "outputs": [],
   "source": [
    "def relu(x, grad=False):\n",
    "        #print(\"Shape : \", x.shape, \"Negative: \", np.count_nonzero(x < 0), \"Positive: \", np.count_nonzero(x > 0))\n",
    "        if grad:\n",
    "            x[x <= 0.0] = 0.0\n",
    "            x[x > 0.0] = 1.0\n",
    "            # print(x)\n",
    "            #print(\"Shape : \", x.shape, \"Negative: \", np.count_nonzero(x < 0), \"Positive: \", np.count_nonzero(x > 0))\n",
    "            return x\n",
    "        return np.maximum(x, 0, x)"
   ]
  },
  {
   "cell_type": "markdown",
   "metadata": {},
   "source": [
    "Fonction de Backpropagatin, commune au 3 algorithmes. "
   ]
  },
  {
   "cell_type": "code",
   "execution_count": 13,
   "metadata": {},
   "outputs": [],
   "source": [
    "def backward(weights, cache, labels, hidden_dims):\n",
    "        output = cache[f\"Z{len(hidden_dims) + 1}\"]\n",
    "        grads = {} # Dictionnaire des gradients\n",
    "        grads[f\"dA{len(hidden_dims) + 1}\"] = - (labels - output)\n",
    "\n",
    "        for layer in range(len(hidden_dims) + 1, 0 , -1):\n",
    "            #m  = grads[f\"dA{layer}\"].shape[0]\n",
    "            #print(\"shape: \", m)\n",
    "            grads[f\"dW{layer}\"] = np.dot(grads[f\"dA{layer}\"].T, cache[f\"Z{layer -1}\"]).T\n",
    "            grads[f\"db{layer}\"] = np.sum(grads[f\"dA{layer}\"], axis=0, keepdims=True)\n",
    "\n",
    "            if layer != 1:\n",
    "                grads[f\"dZ{layer - 1}\"] = np.dot(weights[f\"W{layer}\"], grads[f\"dA{layer}\"].T).T\n",
    "                grads[f\"dA{layer - 1}\"] = grads[f\"dZ{layer - 1}\"] * relu(cache[f\"A{layer - 1}\"], True)\n",
    "        return grads"
   ]
  },
  {
   "cell_type": "code",
   "execution_count": 14,
   "metadata": {},
   "outputs": [],
   "source": [
    " def lossCalculation(prediction, labels):\n",
    "        # Pour une marge de manoeuvre.\n",
    "        epsilon=1e-6 \n",
    "        prediction[np.where(prediction < epsilon)] = epsilon\n",
    "        prediction[np.where(prediction > 1 - epsilon)] = 1 - epsilon\n",
    "        crossEntropy = -sum(np.multiply(labels, np.log(prediction)))\n",
    "\n",
    "        return np.sum(crossEntropy)\n",
    "\n",
    "def compute_loss_and_accuracy(X, y, weights, hidden_dims):\n",
    "        one_y = y\n",
    "        y = np.argmax(y, axis=1) \n",
    "        cache = forward(X, weights, hidden_dims)\n",
    "        predictions = np.argmax(cache[f\"Z{len(hidden_dims) + 1}\"], axis=1)\n",
    "        accuracy = np.mean(y == predictions)\n",
    "        loss = lossCalculation(cache[f\"Z{len(hidden_dims) + 1}\"], one_y)\n",
    "        return loss, accuracy, predictions"
   ]
  },
  {
   "cell_type": "code",
   "execution_count": 15,
   "metadata": {},
   "outputs": [],
   "source": [
    "def update(grads, weights, hidden_dims, alpha):\n",
    "        for layer in range(1, len(hidden_dims) + 2):\n",
    "            weights[f\"W{layer}\"] = weights[f\"W{layer}\"] - (alpha * grads[f\"dW{layer}\"])\n",
    "            weights[f\"b{layer}\"] = weights[f\"b{layer}\"] - (alpha * grads[f\"db{layer}\"])\n",
    "        return weights"
   ]
  },
  {
   "cell_type": "markdown",
   "metadata": {},
   "source": [
    "### Architecture choisie du réseau de neurones"
   ]
  },
  {
   "cell_type": "markdown",
   "metadata": {},
   "source": [
    "Pour la comparaison des algorithmes, j'ai décidé d'utiliser une architecture qui est composée de deux étages cachés de 64 et 32 neurones. J'ai tenté d'utiliser des étages plus volumineux mais étant donné que pour l'algorithme du SAG nous devons garder en mémoire tous les gradients, la mémoire requise était trop volumineuse pour l'exécution du programme (même en Pyhton native). Le premier étage du réseau est composé de 784 neurones (une par pixel des images du MNIST) et le dernier étage est composé de 10 neurones (pour la classification de 0 à 9). L'initialisation des poids (weights) et biais de l'architecture est faite avec la technique de Glorot. De plus, j'utilise la technique d'activation non-linéaire Relu. "
   ]
  },
  {
   "cell_type": "markdown",
   "metadata": {},
   "source": [
    "Même avec cette architecture relativement réduite, le nombre de gradients qu'il faut garder en mémoire par paires de données d'entrainement est de $784 \\times  64 + 64 \\times 32 + 32 \\times 10  + 784 + 64 + 32 = 53424$ ce qui est relativement large considèrent que l'ensemble d'apprentissage est composé  de 50 000 paires."
   ]
  },
  {
   "cell_type": "markdown",
   "metadata": {},
   "source": [
    "### Les modifications pour le Stocastic  Gradient Algorithm. "
   ]
  },
  {
   "cell_type": "markdown",
   "metadata": {},
   "source": [
    "Le training loop de l'algorithm:"
   ]
  },
  {
   "cell_type": "markdown",
   "metadata": {},
   "source": [
    "À chaque itération, je génère un index aléatoire entre 0 et la taille de l'ensemble d'apprentissage (50 000) pour pouvoir utiliser qu'une seule des paires de cet ensemble. Le gradient est calculé (à cette itération) avec la paire choisie avec la backpropagation et les weights sont modifiés en fonction de celui-ci. Le cout d'itérations est donc constant et n'est pas en fonction de la taille de l'ensemble , soit n, comme dans l'algorithme du Finite Gradient. Le taux de convergence reste tout de même de $O(1/k)$ par itération (taux de convergence sous-linéaire)."
   ]
  },
  {
   "cell_type": "code",
   "execution_count": 137,
   "metadata": {},
   "outputs": [],
   "source": [
    "def train_loopSG(n_epochs):\n",
    "    train_logs = {'train_accuracySG': [], 'validation_accuracySG': [], 'train_lossSG': [], 'validation_lossSG': [], 'time': []}\n",
    "    X_train, y_train = train\n",
    "    y_onehot = y_train\n",
    "    dims = [X_train.shape[1], y_onehot.shape[1]]\n",
    "    hidden_dims = hidden_dims = (64, 32)\n",
    "    weights = initialize_weights(dims, hidden_dims)\n",
    "    batch_size = 1\n",
    "    alpha = 3.5e-2\n",
    "    n_batches = 50000\n",
    "    previousLoss = 2147483647 # Le plus grand integer possible (python)\n",
    "    for epoch in range(n_epochs):\n",
    "        if epoch % 1000 == 0 or epoch == 1 or epoch == 501:\n",
    "            start = timeit.default_timer()\n",
    "        #  Selection d'un index aléatoire dépendament du nombre de donnée dans le training data.\n",
    "        indexAleatoire = randint(0, n_batches)\n",
    "        minibatchX = X_train[batch_size * indexAleatoire:batch_size * (indexAleatoire + 1), :]\n",
    "        minibatchY = y_onehot[batch_size * indexAleatoire:batch_size * (indexAleatoire + 1), :]\n",
    "        cache = forward(minibatchX, weights, hidden_dims)\n",
    "        grads = backward(weights, cache, minibatchY, hidden_dims)\n",
    "        weights = update(grads, weights, hidden_dims, alpha)\n",
    "\n",
    "        if epoch % 1000 == 999 or epoch == 0 or epoch == 500:\n",
    "            X_train, y_train = train\n",
    "            train_loss, train_accuracy, _ = compute_loss_and_accuracy(X_train, y_train, weights, hidden_dims)\n",
    "            X_valid, y_valid = valid\n",
    "            valid_loss, valid_accuracy, _ = compute_loss_and_accuracy(X_valid, y_valid, weights, hidden_dims)\n",
    "            stop = timeit.default_timer()\n",
    "\n",
    "            # Imprimer la loss et la precision. Ça l'aide a suivre le progrès\n",
    "            print(f\"Epoch {epoch} : Train Accuracy : {train_accuracy}, \\tValid  Accuracy : {valid_accuracy},\\t Train Loss : {train_loss}, \\tValid Loss :  {valid_loss}, \\t Time for 1000 Epochs: {stop - start}\")\n",
    "            \n",
    "        # Ajuster le taux d'apprentissage si pas de déscente \n",
    "        if train_loss > previousLoss:\n",
    "            alpha  = alpha  *  .999999999\n",
    "        previousLoss = train_loss\n",
    "        \n",
    "        train_logs['train_accuracySG'].append(train_accuracy)\n",
    "        train_logs['validation_accuracySG'].append(valid_accuracy)\n",
    "        train_logs['train_lossSG'].append(train_loss)\n",
    "        train_logs['validation_lossSG'].append(valid_loss)\n",
    "        train_logs['time'].append(stop - start)\n",
    "        \n",
    "\n",
    "    return train_logs"
   ]
  },
  {
   "cell_type": "code",
   "execution_count": 148,
   "metadata": {},
   "outputs": [
    {
     "name": "stdout",
     "output_type": "stream",
     "text": [
      "Epoch 0 : Train Accuracy : 0.08144, \tValid  Accuracy : 0.0822,\t Train Loss : 122796.04174478057, \tValid Loss :  24455.056903564644, \t Time for 1000 Epochs: 0.5547342349891551\n"
     ]
    },
    {
     "name": "stdout",
     "output_type": "stream",
     "text": [
      "Epoch 45999 : Train Accuracy : 0.93446, \tValid  Accuracy : 0.9343,\t Train Loss : 13195.585844372888, \tValid Loss :  2638.8615277646686, \t Time for 1000 Epochs: 1.0094504170119762\n"
     ]
    },
    {
     "name": "stdout",
     "output_type": "stream",
     "text": [
      "Epoch 92999 : Train Accuracy : 0.88972, \tValid  Accuracy : 0.887,\t Train Loss : 29323.631083531196, \tValid Loss :  6516.756745357527, \t Time for 1000 Epochs: 0.782509023003513\n"
     ]
    },
    {
     "name": "stdout",
     "output_type": "stream",
     "text": [
      "Epoch 138999 : Train Accuracy : 0.94466, \tValid  Accuracy : 0.9428,\t Train Loss : 11428.258524131857, \tValid Loss :  2413.810179419185, \t Time for 1000 Epochs: 0.8997261929907836\n"
     ]
    },
    {
     "name": "stdout",
     "output_type": "stream",
     "text": [
      "Epoch 184999 : Train Accuracy : 0.95068, \tValid  Accuracy : 0.9465,\t Train Loss : 10347.353085727183, \tValid Loss :  2413.6025430286036, \t Time for 1000 Epochs: 0.8416555110015906\n"
     ]
    },
    {
     "name": "stdout",
     "output_type": "stream",
     "text": [
      "Epoch 230999 : Train Accuracy : 0.93686, \tValid  Accuracy : 0.9349,\t Train Loss : 12312.233569836208, \tValid Loss :  2650.8751987203277, \t Time for 1000 Epochs: 0.8961734759795945\n"
     ]
    },
    {
     "name": "stdout",
     "output_type": "stream",
     "text": [
      "Epoch 277999 : Train Accuracy : 0.95684, \tValid  Accuracy : 0.9487,\t Train Loss : 8649.987652960494, \tValid Loss :  2163.381861994418, \t Time for 1000 Epochs: 0.86158919200534\n"
     ]
    },
    {
     "name": "stdout",
     "output_type": "stream",
     "text": [
      "Epoch 323999 : Train Accuracy : 0.952, \tValid  Accuracy : 0.9464,\t Train Loss : 10961.363330290005, \tValid Loss :  2754.747933127178, \t Time for 1000 Epochs: 1.1274701640068088\n"
     ]
    },
    {
     "name": "stdout",
     "output_type": "stream",
     "text": [
      "Epoch 370999 : Train Accuracy : 0.95656, \tValid  Accuracy : 0.9482,\t Train Loss : 9499.174228653486, \tValid Loss :  2442.5649321493247, \t Time for 1000 Epochs: 1.1875060989987105\n"
     ]
    },
    {
     "name": "stdout",
     "output_type": "stream",
     "text": [
      "Epoch 417999 : Train Accuracy : 0.94648, \tValid  Accuracy : 0.9377,\t Train Loss : 10358.7594480948, \tValid Loss :  2682.2764805099005, \t Time for 1000 Epochs: 0.8705298890126869\n"
     ]
    },
    {
     "name": "stdout",
     "output_type": "stream",
     "text": [
      "Epoch 463999 : Train Accuracy : 0.93982, \tValid  Accuracy : 0.9326,\t Train Loss : 16052.648631938338, \tValid Loss :  3813.932650466158, \t Time for 1000 Epochs: 0.838086381991161\n"
     ]
    },
    {
     "name": "stdout",
     "output_type": "stream",
     "text": [
      "Epoch 509999 : Train Accuracy : 0.94508, \tValid  Accuracy : 0.9382,\t Train Loss : 10419.364556756744, \tValid Loss :  2589.884972954655, \t Time for 1000 Epochs: 0.8067757569951937\n"
     ]
    },
    {
     "name": "stdout",
     "output_type": "stream",
     "text": [
      "Epoch 555999 : Train Accuracy : 0.94348, \tValid  Accuracy : 0.9422,\t Train Loss : 11177.00773437777, \tValid Loss :  2806.5808618355277, \t Time for 1000 Epochs: 0.9114923449815251\n"
     ]
    },
    {
     "name": "stdout",
     "output_type": "stream",
     "text": [
      "Epoch 601999 : Train Accuracy : 0.95696, \tValid  Accuracy : 0.9499,\t Train Loss : 9624.933247695526, \tValid Loss :  2517.121633107778, \t Time for 1000 Epochs: 0.8736707640055101\n"
     ]
    },
    {
     "name": "stdout",
     "output_type": "stream",
     "text": [
      "Epoch 647999 : Train Accuracy : 0.95116, \tValid  Accuracy : 0.9437,\t Train Loss : 11728.078895596653, \tValid Loss :  2950.9842034566686, \t Time for 1000 Epochs: 0.8783041489950847\n"
     ]
    },
    {
     "name": "stdout",
     "output_type": "stream",
     "text": [
      "Epoch 693999 : Train Accuracy : 0.92134, \tValid  Accuracy : 0.9157,\t Train Loss : 15463.079430812184, \tValid Loss :  3621.789747937344, \t Time for 1000 Epochs: 0.972516069014091\n"
     ]
    },
    {
     "name": "stdout",
     "output_type": "stream",
     "text": [
      "Epoch 739999 : Train Accuracy : 0.95696, \tValid  Accuracy : 0.9458,\t Train Loss : 8796.414651595735, \tValid Loss :  2497.6227360138714, \t Time for 1000 Epochs: 0.7313190279819537\n"
     ]
    },
    {
     "name": "stdout",
     "output_type": "stream",
     "text": [
      "Epoch 785999 : Train Accuracy : 0.95128, \tValid  Accuracy : 0.9432,\t Train Loss : 9781.754443555736, \tValid Loss :  2743.057742218616, \t Time for 1000 Epochs: 0.7953827960009221\n"
     ]
    },
    {
     "name": "stdout",
     "output_type": "stream",
     "text": [
      "Epoch 831999 : Train Accuracy : 0.90984, \tValid  Accuracy : 0.9018,\t Train Loss : 17587.784760256865, \tValid Loss :  4387.046228438615, \t Time for 1000 Epochs: 0.7685805870278273\n"
     ]
    },
    {
     "name": "stdout",
     "output_type": "stream",
     "text": [
      "Epoch 877999 : Train Accuracy : 0.95218, \tValid  Accuracy : 0.9456,\t Train Loss : 9645.280974966963, \tValid Loss :  2540.481281902843, \t Time for 1000 Epochs: 0.7552070200035814\n"
     ]
    },
    {
     "name": "stdout",
     "output_type": "stream",
     "text": [
      "Epoch 923999 : Train Accuracy : 0.94744, \tValid  Accuracy : 0.9384,\t Train Loss : 11079.583171695054, \tValid Loss :  3013.3462136269563, \t Time for 1000 Epochs: 0.8676544149930123\n"
     ]
    },
    {
     "name": "stdout",
     "output_type": "stream",
     "text": [
      "Epoch 969999 : Train Accuracy : 0.91562, \tValid  Accuracy : 0.9071,\t Train Loss : 19681.259447727392, \tValid Loss :  5044.789106242224, \t Time for 1000 Epochs: 0.7791599570191465\n"
     ]
    }
   ],
   "source": [
    "trainLogSG = train_loopSG(1000000) "
   ]
  },
  {
   "cell_type": "markdown",
   "metadata": {},
   "source": [
    "## Les modification pour le Finite Difference Algorithm. "
   ]
  },
  {
   "cell_type": "markdown",
   "metadata": {},
   "source": [
    "À chaque itération, nous passons à travers toutes les paires de données de l'ensemble d'apprentissage pour calculer le gradient idéal moyen. La totalité du gradient est calculée à chaque itération avec la backpropagation et les weights (et biais) sont modifiés en fonction de ce gradient moyen après avoir passé à travers toutes les données de l'ensemble d'entrainement. Le coût d'itérations est donc en fonction de la taille de cet ensemble, $O(n)$. Le taux de convergence est cependant meilleur avec tout de même de $O(p^k)$, pour $0<p<1$, par itération (taux de convergence linéaire)."
   ]
  },
  {
   "cell_type": "code",
   "execution_count": 123,
   "metadata": {},
   "outputs": [],
   "source": [
    "def train_loopFD(n_epochs):\n",
    "    train_logs = {'train_accuracyFD': [], 'validation_accuracyFD': [], 'train_lossFD': [], 'validation_lossFD': [], 'time': []}\n",
    "    X_train, y_train = train\n",
    "    y_onehot = y_train\n",
    "    dims = [X_train.shape[1], y_onehot.shape[1]]\n",
    "    hidden_dims = hidden_dims = (64, 32)\n",
    "    weights = initialize_weights(dims, hidden_dims)\n",
    "    batch_size = 1\n",
    "    alpha = 0.1099\n",
    "    n_batches = 50000\n",
    "    previousLoss = 2147483647 # Le plus grand integer possible (python)\n",
    "    for epoch in range(n_epochs):\n",
    "        start = timeit.default_timer()\n",
    "        #  Selection d'un index aléatoire dépendament du nombre de donnée dans le training data.\n",
    "        gradsS = {}\n",
    "        for i in range(n_batches):  # La grosseur du training set.\n",
    "            batchX = X_train[batch_size * i:batch_size * (i + 1), :]\n",
    "            batchY = y_onehot[batch_size * i:batch_size * (i + 1), :]\n",
    "            # print(batchX.shape)\n",
    "            # print(batchY.shape)\n",
    "            cache = forward(batchX, weights, hidden_dims)\n",
    "            grads = backward(weights, cache, batchY, hidden_dims)\n",
    "\n",
    "            # Pour tous les éléments, les additionner pour pouvoir diviser et obtenir la moyenne.\n",
    "            # Si pas la première itération, additionner les nouveaux grads,\n",
    "            if i != 0:\n",
    "                gradsS['dW3'] += grads[\"dW3\"]\n",
    "                gradsS[\"dW2\"] += grads[\"dW2\"]\n",
    "                gradsS[\"dW1\"] += grads[\"dW1\"]\n",
    "                gradsS[\"db3\"] += grads[\"db3\"]\n",
    "                gradsS[\"db2\"] += grads[\"db2\"]\n",
    "                gradsS[\"db1\"] += grads[\"db1\"]\n",
    "            # Si la première itérations, initialiser les gradients avec les gradients respectifs.\n",
    "            else:\n",
    "                gradsS['dW3'] = grads[\"dW3\"]\n",
    "                gradsS[\"dW2\"] = grads[\"dW2\"]\n",
    "                gradsS[\"dW1\"] = grads[\"dW1\"]\n",
    "                gradsS[\"db3\"] = grads[\"db3\"]\n",
    "                gradsS[\"db2\"] = grads[\"db2\"]\n",
    "                gradsS[\"db1\"] = grads[\"db1\"]\n",
    "        # Diviser pour obtenir la moyenne de chaque gradients.\n",
    "        gradsS['dW3'] = gradsS[\"dW3\"] * 1 / n_batches\n",
    "        gradsS[\"dW2\"] = gradsS[\"dW2\"] * 1 / n_batches\n",
    "        gradsS[\"dW1\"] = gradsS[\"dW1\"] * 1 / n_batches\n",
    "        gradsS[\"db3\"] = gradsS[\"db3\"] * 1 / n_batches\n",
    "        gradsS[\"db2\"] = gradsS[\"db2\"] * 1 / n_batches\n",
    "        gradsS[\"db1\"] = gradsS[\"db1\"] * 1 / n_batches\n",
    "\n",
    "        # Updater les weights.\n",
    "        weights = update(gradsS, weights, hidden_dims, alpha)\n",
    "\n",
    "        X_train, y_train = train\n",
    "        train_loss, train_accuracy, _ = compute_loss_and_accuracy(X_train, y_train, weights, hidden_dims)\n",
    "        X_valid, y_valid = valid\n",
    "        valid_loss, valid_accuracy, _ = compute_loss_and_accuracy(X_valid, y_valid, weights, hidden_dims)\n",
    "\n",
    "        stop = timeit.default_timer()\n",
    "\n",
    "        # Imprimer la loss et la precision. Ça l'aide a suivre le progrès\n",
    "        print(f\"Epoch {epoch} : Train Accuracy : {train_accuracy}, \\tValid  Accuracy : {valid_accuracy},\\t Train Loss : {train_loss}, \\tValid Loss :  {valid_loss} , Time : {stop - start}\")\n",
    "        \n",
    "        # Ajuster le taux d'apprentissage si pas de déscente\n",
    "        if train_loss > previousLoss:\n",
    "            alpha  = alpha  *  .975\n",
    "        previousLoss = train_loss\n",
    "        train_logs['train_accuracyFD'].append(train_accuracy)\n",
    "        train_logs['validation_accuracyFD'].append(valid_accuracy)\n",
    "        train_logs['train_lossFD'].append(train_loss)\n",
    "        train_logs['validation_lossFD'].append(valid_loss)\n",
    "        train_logs['time'].append(stop - start)\n",
    "\n",
    "    return train_logs"
   ]
  },
  {
   "cell_type": "code",
   "execution_count": 124,
   "metadata": {},
   "outputs": [
    {
     "name": "stdout",
     "output_type": "stream",
     "text": [
      "Epoch 0 : Train Accuracy : 0.13602, \tValid  Accuracy : 0.1301,\t Train Loss : 115658.6675690525, \tValid Loss :  23131.366976003766 , Time : 13.57142488300451\n",
      "Epoch 1 : Train Accuracy : 0.17352, \tValid  Accuracy : 0.1708,\t Train Loss : 113569.04532514424, \tValid Loss :  22716.53910075077 , Time : 15.282209564989898\n",
      "Epoch 2 : Train Accuracy : 0.20442, \tValid  Accuracy : 0.2026,\t Train Loss : 111823.409157642, \tValid Loss :  22367.97846762275 , Time : 13.309911374992225\n",
      "Epoch 3 : Train Accuracy : 0.23288, \tValid  Accuracy : 0.2312,\t Train Loss : 110208.84476288529, \tValid Loss :  22044.886378383824 , Time : 12.375716127018677\n",
      "Epoch 4 : Train Accuracy : 0.2607, \tValid  Accuracy : 0.2569,\t Train Loss : 108604.88520980599, \tValid Loss :  21723.23309548002 , Time : 11.491972374002216\n",
      "Epoch 5 : Train Accuracy : 0.28388, \tValid  Accuracy : 0.2837,\t Train Loss : 106936.87651332561, \tValid Loss :  21388.54565282308 , Time : 13.270202354004141\n",
      "Epoch 6 : Train Accuracy : 0.3041, \tValid  Accuracy : 0.3049,\t Train Loss : 105159.73672948862, \tValid Loss :  21031.51378563437 , Time : 13.221261850994779\n",
      "Epoch 7 : Train Accuracy : 0.32334, \tValid  Accuracy : 0.3254,\t Train Loss : 103223.62380625351, \tValid Loss :  20642.67252946852 , Time : 14.068814956990536\n",
      "Epoch 8 : Train Accuracy : 0.3429, \tValid  Accuracy : 0.3458,\t Train Loss : 101083.9390927268, \tValid Loss :  20209.640275087375 , Time : 11.50174881098792\n",
      "Epoch 9 : Train Accuracy : 0.36372, \tValid  Accuracy : 0.369,\t Train Loss : 98780.40489679792, \tValid Loss :  19743.021201799987 , Time : 15.293973919004202\n",
      "Epoch 10 : Train Accuracy : 0.38484, \tValid  Accuracy : 0.391,\t Train Loss : 96396.24970647015, \tValid Loss :  19257.576574409824 , Time : 13.867787334980676\n",
      "Epoch 11 : Train Accuracy : 0.4029, \tValid  Accuracy : 0.4125,\t Train Loss : 93991.15396866878, \tValid Loss :  18764.749908182457 , Time : 16.628168566996465\n",
      "Epoch 12 : Train Accuracy : 0.4195, \tValid  Accuracy : 0.4294,\t Train Loss : 91582.38870025204, \tValid Loss :  18270.444943449118 , Time : 11.990939928014996\n",
      "Epoch 13 : Train Accuracy : 0.43592, \tValid  Accuracy : 0.447,\t Train Loss : 89180.23534411463, \tValid Loss :  17776.966365444885 , Time : 10.807975033007096\n",
      "Epoch 14 : Train Accuracy : 0.4548, \tValid  Accuracy : 0.4653,\t Train Loss : 86791.50456093981, \tValid Loss :  17285.70042461099 , Time : 10.774932405009167\n",
      "Epoch 15 : Train Accuracy : 0.47346, \tValid  Accuracy : 0.4881,\t Train Loss : 84417.33275202791, \tValid Loss :  16797.443080399196 , Time : 11.08413343099528\n",
      "Epoch 16 : Train Accuracy : 0.49592, \tValid  Accuracy : 0.5121,\t Train Loss : 82060.75994918808, \tValid Loss :  16313.141858507666 , Time : 10.605025619006483\n",
      "Epoch 17 : Train Accuracy : 0.51958, \tValid  Accuracy : 0.5343,\t Train Loss : 79723.74862065409, \tValid Loss :  15833.630437836582 , Time : 12.175519756012363\n",
      "Epoch 18 : Train Accuracy : 0.54486, \tValid  Accuracy : 0.5609,\t Train Loss : 77408.74400723551, \tValid Loss :  15358.907179130032 , Time : 12.954308524989756\n",
      "Epoch 19 : Train Accuracy : 0.57242, \tValid  Accuracy : 0.5894,\t Train Loss : 75119.94625377565, \tValid Loss :  14889.434485821248 , Time : 11.722677868005121\n",
      "Epoch 20 : Train Accuracy : 0.59696, \tValid  Accuracy : 0.6145,\t Train Loss : 72866.2778698466, \tValid Loss :  14426.484211644663 , Time : 12.192516857001465\n",
      "Epoch 21 : Train Accuracy : 0.61944, \tValid  Accuracy : 0.6359,\t Train Loss : 70658.47741639164, \tValid Loss :  13972.348153265459 , Time : 11.338756768003805\n",
      "Epoch 22 : Train Accuracy : 0.63972, \tValid  Accuracy : 0.6573,\t Train Loss : 68509.21991715983, \tValid Loss :  13529.827529977136 , Time : 12.609257553005591\n",
      "Epoch 23 : Train Accuracy : 0.65646, \tValid  Accuracy : 0.675,\t Train Loss : 66434.15676511121, \tValid Loss :  13101.713490717275 , Time : 12.100438151013805\n",
      "Epoch 24 : Train Accuracy : 0.6712, \tValid  Accuracy : 0.6865,\t Train Loss : 64441.97086975494, \tValid Loss :  12689.866601662761 , Time : 13.668353532004403\n",
      "Epoch 25 : Train Accuracy : 0.68346, \tValid  Accuracy : 0.6983,\t Train Loss : 62537.654167489076, \tValid Loss :  12295.71199927016 , Time : 13.004492753010709\n",
      "Epoch 26 : Train Accuracy : 0.69398, \tValid  Accuracy : 0.7094,\t Train Loss : 60726.038194410125, \tValid Loss :  11919.974853449186 , Time : 11.631808470003307\n",
      "Epoch 27 : Train Accuracy : 0.7037, \tValid  Accuracy : 0.7206,\t Train Loss : 59007.45090744128, \tValid Loss :  11563.059157894366 , Time : 11.927894060005201\n",
      "Epoch 28 : Train Accuracy : 0.71154, \tValid  Accuracy : 0.7295,\t Train Loss : 57378.49056463997, \tValid Loss :  11224.540291708814 , Time : 12.991816402995028\n",
      "Epoch 29 : Train Accuracy : 0.71874, \tValid  Accuracy : 0.7362,\t Train Loss : 55837.26531312131, \tValid Loss :  10904.237857958009 , Time : 14.346077346010134\n",
      "Epoch 30 : Train Accuracy : 0.72578, \tValid  Accuracy : 0.7444,\t Train Loss : 54377.94773445535, \tValid Loss :  10600.954199511376 , Time : 13.782440473005408\n",
      "Epoch 31 : Train Accuracy : 0.73228, \tValid  Accuracy : 0.7519,\t Train Loss : 52995.45086784151, \tValid Loss :  10313.49576823477 , Time : 12.997661514993524\n",
      "Epoch 32 : Train Accuracy : 0.73836, \tValid  Accuracy : 0.7591,\t Train Loss : 51684.24962616028, \tValid Loss :  10040.849620936617 , Time : 17.601501032011583\n",
      "Epoch 33 : Train Accuracy : 0.7445, \tValid  Accuracy : 0.7661,\t Train Loss : 50439.69754294966, \tValid Loss :  9782.035305975483 , Time : 12.278729854995618\n",
      "Epoch 34 : Train Accuracy : 0.7504, \tValid  Accuracy : 0.7734,\t Train Loss : 49257.1310835186, \tValid Loss :  9536.099795972883 , Time : 16.2697387879889\n",
      "Epoch 35 : Train Accuracy : 0.75594, \tValid  Accuracy : 0.7788,\t Train Loss : 48132.03326936943, \tValid Loss :  9302.261168028599 , Time : 20.519046191009693\n",
      "Epoch 36 : Train Accuracy : 0.76124, \tValid  Accuracy : 0.7834,\t Train Loss : 47059.87560538302, \tValid Loss :  9079.668617886815 , Time : 18.914456249010982\n",
      "Epoch 37 : Train Accuracy : 0.76688, \tValid  Accuracy : 0.7887,\t Train Loss : 46037.103979231964, \tValid Loss :  8867.522096866043 , Time : 19.3940722529951\n",
      "Epoch 38 : Train Accuracy : 0.7719, \tValid  Accuracy : 0.7937,\t Train Loss : 45060.796789740125, \tValid Loss :  8665.171657380632 , Time : 20.341146615013713\n",
      "Epoch 39 : Train Accuracy : 0.77698, \tValid  Accuracy : 0.798,\t Train Loss : 44127.27714031303, \tValid Loss :  8471.91179556546 , Time : 19.678594649012666\n",
      "Epoch 40 : Train Accuracy : 0.78166, \tValid  Accuracy : 0.8013,\t Train Loss : 43233.63876806749, \tValid Loss :  8287.13035914971 , Time : 14.17998234697734\n",
      "Epoch 41 : Train Accuracy : 0.78596, \tValid  Accuracy : 0.8065,\t Train Loss : 42377.56911271368, \tValid Loss :  8110.287919286519 , Time : 14.46883957600221\n",
      "Epoch 42 : Train Accuracy : 0.79052, \tValid  Accuracy : 0.8106,\t Train Loss : 41556.791731238205, \tValid Loss :  7940.974793189777 , Time : 13.397514009004226\n",
      "Epoch 43 : Train Accuracy : 0.7939, \tValid  Accuracy : 0.8139,\t Train Loss : 40769.420684557364, \tValid Loss :  7778.641869801914 , Time : 12.133590939978603\n",
      "Epoch 44 : Train Accuracy : 0.79822, \tValid  Accuracy : 0.8175,\t Train Loss : 40013.684291369325, \tValid Loss :  7623.033633297586 , Time : 12.506872523983475\n",
      "Epoch 45 : Train Accuracy : 0.80156, \tValid  Accuracy : 0.8211,\t Train Loss : 39287.71925719863, \tValid Loss :  7473.722719544812 , Time : 12.11409909799113\n",
      "Epoch 46 : Train Accuracy : 0.80484, \tValid  Accuracy : 0.8243,\t Train Loss : 38589.58086544369, \tValid Loss :  7330.376884101047 , Time : 12.442481552978279\n",
      "Epoch 47 : Train Accuracy : 0.80814, \tValid  Accuracy : 0.8278,\t Train Loss : 37917.84147437117, \tValid Loss :  7192.638619040161 , Time : 15.403113369975472\n",
      "Epoch 48 : Train Accuracy : 0.81126, \tValid  Accuracy : 0.8301,\t Train Loss : 37271.69758027914, \tValid Loss :  7060.286711889747 , Time : 15.802185787993949\n",
      "Epoch 49 : Train Accuracy : 0.8141, \tValid  Accuracy : 0.8324,\t Train Loss : 36649.74082914883, \tValid Loss :  6933.068203477227 , Time : 12.03881183397607\n",
      "Epoch 50 : Train Accuracy : 0.81722, \tValid  Accuracy : 0.8351,\t Train Loss : 36050.9448889911, \tValid Loss :  6810.763043716782 , Time : 13.92023753799731\n",
      "Epoch 51 : Train Accuracy : 0.82008, \tValid  Accuracy : 0.837,\t Train Loss : 35474.32417405581, \tValid Loss :  6693.236029033256 , Time : 20.738950188999297\n"
     ]
    },
    {
     "name": "stdout",
     "output_type": "stream",
     "text": [
      "Epoch 52 : Train Accuracy : 0.823, \tValid  Accuracy : 0.8394,\t Train Loss : 34919.00840385108, \tValid Loss :  6580.280714638193 , Time : 13.613609008025378\n",
      "Epoch 53 : Train Accuracy : 0.8253, \tValid  Accuracy : 0.8418,\t Train Loss : 34384.09654958367, \tValid Loss :  6471.636578517006 , Time : 13.740203066001413\n",
      "Epoch 54 : Train Accuracy : 0.8275, \tValid  Accuracy : 0.8442,\t Train Loss : 33868.7047735693, \tValid Loss :  6367.205828046052 , Time : 18.860835339000914\n",
      "Epoch 55 : Train Accuracy : 0.83036, \tValid  Accuracy : 0.8462,\t Train Loss : 33372.307983015606, \tValid Loss :  6266.736044751913 , Time : 12.27270562297781\n",
      "Epoch 56 : Train Accuracy : 0.83266, \tValid  Accuracy : 0.8482,\t Train Loss : 32893.99572013671, \tValid Loss :  6170.069683349532 , Time : 20.00651339700562\n",
      "Epoch 57 : Train Accuracy : 0.83498, \tValid  Accuracy : 0.8505,\t Train Loss : 32433.036700327495, \tValid Loss :  6077.057567627304 , Time : 33.088970690005226\n",
      "Epoch 58 : Train Accuracy : 0.83722, \tValid  Accuracy : 0.8527,\t Train Loss : 31988.661380177793, \tValid Loss :  5987.6362484045585 , Time : 25.481556679995265\n",
      "Epoch 59 : Train Accuracy : 0.8394, \tValid  Accuracy : 0.8544,\t Train Loss : 31560.06271945725, \tValid Loss :  5901.5333088963325 , Time : 19.696792420989368\n",
      "Epoch 60 : Train Accuracy : 0.84136, \tValid  Accuracy : 0.8566,\t Train Loss : 31146.70080636442, \tValid Loss :  5818.6783016806285 , Time : 12.913911767012905\n",
      "Epoch 61 : Train Accuracy : 0.84308, \tValid  Accuracy : 0.8585,\t Train Loss : 30748.091070899234, \tValid Loss :  5738.903499460472 , Time : 16.162610794999637\n",
      "Epoch 62 : Train Accuracy : 0.84508, \tValid  Accuracy : 0.8598,\t Train Loss : 30363.640308540478, \tValid Loss :  5662.173359453805 , Time : 15.445013919001212\n",
      "Epoch 63 : Train Accuracy : 0.84684, \tValid  Accuracy : 0.8611,\t Train Loss : 29992.933376711073, \tValid Loss :  5588.257566436277 , Time : 16.65673373301979\n",
      "Epoch 64 : Train Accuracy : 0.84802, \tValid  Accuracy : 0.8625,\t Train Loss : 29635.221959548635, \tValid Loss :  5517.124717111139 , Time : 15.10390879600891\n",
      "Epoch 65 : Train Accuracy : 0.84966, \tValid  Accuracy : 0.8639,\t Train Loss : 29289.898042654757, \tValid Loss :  5448.497998501479 , Time : 13.888965885998914\n",
      "Epoch 66 : Train Accuracy : 0.851, \tValid  Accuracy : 0.8654,\t Train Loss : 28956.700909023297, \tValid Loss :  5382.451125645744 , Time : 13.725477197003784\n",
      "Epoch 67 : Train Accuracy : 0.85238, \tValid  Accuracy : 0.8654,\t Train Loss : 28634.915788711325, \tValid Loss :  5318.698599376699 , Time : 12.733235002990114\n",
      "Epoch 68 : Train Accuracy : 0.85372, \tValid  Accuracy : 0.8667,\t Train Loss : 28324.043706476405, \tValid Loss :  5257.310086489268 , Time : 14.046601019013906\n",
      "Epoch 69 : Train Accuracy : 0.85472, \tValid  Accuracy : 0.8679,\t Train Loss : 28023.530177888548, \tValid Loss :  5197.959704680786 , Time : 18.207534718007082\n",
      "Epoch 70 : Train Accuracy : 0.85626, \tValid  Accuracy : 0.8686,\t Train Loss : 27732.93920215187, \tValid Loss :  5140.808300299312 , Time : 18.82352107198676\n",
      "Epoch 71 : Train Accuracy : 0.8576, \tValid  Accuracy : 0.8698,\t Train Loss : 27452.056912561, \tValid Loss :  5085.523008997534 , Time : 16.990922060009325\n",
      "Epoch 72 : Train Accuracy : 0.85856, \tValid  Accuracy : 0.8707,\t Train Loss : 27180.25420803118, \tValid Loss :  5032.269204777249 , Time : 16.410402800014708\n",
      "Epoch 73 : Train Accuracy : 0.85944, \tValid  Accuracy : 0.8717,\t Train Loss : 26917.15843211433, \tValid Loss :  4980.672687371374 , Time : 30.64684533898253\n",
      "Epoch 74 : Train Accuracy : 0.86056, \tValid  Accuracy : 0.8729,\t Train Loss : 26662.403846278816, \tValid Loss :  4930.956102643944 , Time : 28.81335404701531\n",
      "Epoch 75 : Train Accuracy : 0.86174, \tValid  Accuracy : 0.8746,\t Train Loss : 26415.5703809267, \tValid Loss :  4882.6555911544565 , Time : 20.837939260993153\n",
      "Epoch 76 : Train Accuracy : 0.86264, \tValid  Accuracy : 0.8764,\t Train Loss : 26176.393469700502, \tValid Loss :  4836.163652261438 , Time : 18.147773125005187\n",
      "Epoch 77 : Train Accuracy : 0.86358, \tValid  Accuracy : 0.8769,\t Train Loss : 25944.623914541866, \tValid Loss :  4790.924151445071 , Time : 17.045878753007855\n",
      "Epoch 78 : Train Accuracy : 0.86438, \tValid  Accuracy : 0.8779,\t Train Loss : 25720.059296437405, \tValid Loss :  4747.434159380685 , Time : 31.432181376003427\n",
      "Epoch 79 : Train Accuracy : 0.86562, \tValid  Accuracy : 0.8781,\t Train Loss : 25502.31756284596, \tValid Loss :  4705.026688347512 , Time : 25.21729532201425\n"
     ]
    }
   ],
   "source": [
    "trainLogFD = train_loopFD(80)"
   ]
  },
  {
   "cell_type": "markdown",
   "metadata": {},
   "source": [
    "## Stochastic Average Gradients "
   ]
  },
  {
   "cell_type": "markdown",
   "metadata": {},
   "source": [
    "À chaque itération, (similairement à l'algorithme du Stochastic Gradient) je choisis un indexe aléatoire entre 0 et la taille de l'ensemble d'entrainement (n) pour sélectionner une de ces paires de données pour calculer le gradient respectif à  celle-ci. Le gradient est calculé avec la backpropagation et il  est ajouté à une somme (pour ensuite calculer la moyenne) des autres gradients des itérations antérieures (aussi représentatifs de paires de données aléatoirement choisies). Le nombre d'indexes visité est donc gardé en mémoire sous la variable $k$. \n",
    "À  chaque itération, nous calculons le gradient de la paire de données sélectionnées aléatoirement, nous ajoutons le gradient à la somme des gradients et si l'index avait déjà été visité antérieurement, ont soustrait l'ancien  gradient mais nous n'ajustons pas la valeur de k puisque cette paire avait déjà été comptée. S'il n'avait pas été visité antérieurement, nous ajoutons le gradient à la somme et augmentons la valeur de $k= k+ 1$ pour calculer le gradient moyen. Les poids (weights) et  biais sont donc modifiés en fonction de la moyenne de tous les gradients calculés antérieurement. Le cout d'itérations est donc constant et indépendant de la taille de l'ensemble d'entrainement, puisque à chaque itération nous calculons qu'un seul gradient (comme dans l'algorithme du Stochastic Gradient). Le taux de convergence est cependant meilleur avec tout de même de $g^k$, pour $0<g<1$, par itération  (taux de convergence linéaire)."
   ]
  },
  {
   "cell_type": "code",
   "execution_count": 143,
   "metadata": {},
   "outputs": [],
   "source": [
    "def train_loopSAG(n_epochs):\n",
    "    train_logs = {'train_accuracyFD': [], 'validation_accuracyFD': [], 'train_lossFD': [], 'validation_lossFD': [],\n",
    "                  'time': []}\n",
    "    X_train, y_train = train\n",
    "    y_onehot = y_train\n",
    "    dims = [X_train.shape[1], y_onehot.shape[1]]\n",
    "    hidden_dims = hidden_dims = (64, 32)\n",
    "    weights = initialize_weights(dims, hidden_dims)\n",
    "    batch_size = 1\n",
    "    alpha = 7.9e-3\n",
    "    n_batches = 50000\n",
    "    gradsS = {}\n",
    "    gradsM = {}\n",
    "    storedGrads = {}\n",
    "    k = 0\n",
    "    previousLoss = 2147483647 # Le plus grand integer possible (python)\n",
    "    for epoch in range(n_epochs):\n",
    "        if epoch % 1000 == 0 or epoch == 1 or epoch == 501:\n",
    "            start = timeit.default_timer()\n",
    "        #  Selection d'un index aléatoire dépendament du nombre de donnée dans le training data.\n",
    "        indexAleatoire = randint(0, n_batches)\n",
    "\n",
    "        batchX = X_train[batch_size * indexAleatoire:batch_size * (indexAleatoire + 1), :]\n",
    "        batchY = y_onehot[batch_size * indexAleatoire:batch_size * (indexAleatoire + 1), :]\n",
    "        cache = forward(batchX, weights, hidden_dims)\n",
    "        grads = backward(weights, cache, batchY, hidden_dims)\n",
    "\n",
    "        #  Si l'index n'a jamais été  tiré, garder en  mémoire les gradients.\n",
    "        #  Si il a été  tiré, enleve la différence des anciens dans le dictionnaire gradsS.\n",
    "        if indexAleatoire not in storedGrads:\n",
    "            storedGrads[indexAleatoire] = {}\n",
    "            k += 1\n",
    "            # print(\"K: \", k)\n",
    "        else:\n",
    "            # print(\"K: Already Picked\")\n",
    "            gradsS['dW3'] -= storedGrads[indexAleatoire][\"dW3\"]\n",
    "            gradsS[\"dW2\"] -= storedGrads[indexAleatoire][\"dW2\"]\n",
    "            gradsS[\"dW1\"] -= storedGrads[indexAleatoire][\"dW1\"]\n",
    "            gradsS[\"db3\"] -= storedGrads[indexAleatoire][\"db3\"]\n",
    "            gradsS[\"db2\"] -= storedGrads[indexAleatoire][\"db2\"]\n",
    "            gradsS[\"db1\"] -= storedGrads[indexAleatoire][\"db1\"]\n",
    "\n",
    "        # Garder en mémoire les anciens grads pour les enlever un fois de nouveau pigé.\n",
    "        storedGrads[indexAleatoire][\"dW3\"] = grads[\"dW3\"]\n",
    "        storedGrads[indexAleatoire][\"dW2\"] = grads[\"dW2\"]\n",
    "        storedGrads[indexAleatoire][\"dW1\"] = grads[\"dW1\"]\n",
    "        storedGrads[indexAleatoire][\"db3\"] = grads[\"db3\"]\n",
    "        storedGrads[indexAleatoire][\"db2\"] = grads[\"db2\"]\n",
    "        storedGrads[indexAleatoire][\"db1\"] = grads[\"db1\"]\n",
    "\n",
    "        # Ajouter tous les éléments pigé à la somme des gradients,  pour calculer la moyenne après.\n",
    "        if epoch != 0:\n",
    "            gradsS['dW3'] += grads[\"dW3\"]\n",
    "            gradsS[\"dW2\"] += grads[\"dW2\"]\n",
    "            gradsS[\"dW1\"] += grads[\"dW1\"]\n",
    "            gradsS[\"db3\"] += grads[\"db3\"]\n",
    "            gradsS[\"db2\"] += grads[\"db2\"]\n",
    "            gradsS[\"db1\"] += grads[\"db1\"]\n",
    "        else:\n",
    "            gradsS['dW3'] = grads[\"dW3\"]\n",
    "            gradsS[\"dW2\"] = grads[\"dW2\"]\n",
    "            gradsS[\"dW1\"] = grads[\"dW1\"]\n",
    "            gradsS[\"db3\"] = grads[\"db3\"]\n",
    "            gradsS[\"db2\"] = grads[\"db2\"]\n",
    "            gradsS[\"db1\"] = grads[\"db1\"]\n",
    "\n",
    "        # Diviser pour par k pour obtenir la moyenne.\n",
    "        gradsM['dW3'] = gradsS[\"dW3\"] * 1 / k\n",
    "        gradsM[\"dW2\"] = gradsS[\"dW2\"] * 1 / k\n",
    "        gradsM[\"dW1\"] = gradsS[\"dW1\"] * 1 / k\n",
    "        gradsM[\"db3\"] = gradsS[\"db3\"] * 1 / k\n",
    "        gradsM[\"db2\"] = gradsS[\"db2\"] * 1 / k\n",
    "        gradsM[\"db1\"] = gradsS[\"db1\"] * 1 / k\n",
    "\n",
    "        # Update les weights.\n",
    "        weights = update(gradsM, weights, hidden_dims, alpha)\n",
    "\n",
    "        if epoch % 1000 == 999 or epoch == 0 or epoch == 500:\n",
    "            # Arreter le temps puisque la computation des losses ne differe pas d'un algorithme à l'autre.\n",
    "            stop = timeit.default_timer()\n",
    "            X_train, y_train = train\n",
    "            train_loss, train_accuracy, _ = compute_loss_and_accuracy(X_train, y_train, weights, hidden_dims)\n",
    "            X_valid, y_valid = valid\n",
    "            valid_loss, valid_accuracy, _ = compute_loss_and_accuracy(X_valid, y_valid, weights, hidden_dims)\n",
    "\n",
    "            # Imprimer la loss et la precision. Ça l'aide a suivre le progrès\n",
    "            print(f\"Epoch {epoch} : Train Accuracy : {train_accuracy}, \\tValid  Accuracy : {valid_accuracy},\\t Train Loss : {train_loss}, \\tValid Loss :  {valid_loss} , Time for 1000 epochs : {stop - start}\")\n",
    "            \n",
    "            # Ajuster le taux d'apprentissage si pas de déscente\n",
    "            if train_loss > previousLoss:\n",
    "                alpha  = alpha  *  .9899999\n",
    "            previousLoss = train_loss\n",
    "            train_logs['train_accuracyFD'].append(train_accuracy)\n",
    "            train_logs['validation_accuracyFD'].append(valid_accuracy)\n",
    "            train_logs['train_lossFD'].append(train_loss)\n",
    "            train_logs['validation_lossFD'].append(valid_loss)\n",
    "            train_logs['time'].append(stop - start)\n",
    "\n",
    "    return train_logs"
   ]
  },
  {
   "cell_type": "code",
   "execution_count": 145,
   "metadata": {},
   "outputs": [
    {
     "name": "stdout",
     "output_type": "stream",
     "text": [
      "Epoch 0 : Train Accuracy : 0.08946, \tValid  Accuracy : 0.09,\t Train Loss : 128811.62135089346, \tValid Loss :  25697.41876322002 , Time for 1000 epochs : 0.0024444779846817255\n"
     ]
    },
    {
     "name": "stdout",
     "output_type": "stream",
     "text": [
      "Epoch 45999 : Train Accuracy : 0.9195, \tValid  Accuracy : 0.9245,\t Train Loss : 14877.124064103547, \tValid Loss :  2766.728897965541 , Time for 1000 epochs : 1.1595352430013008\n"
     ]
    },
    {
     "name": "stdout",
     "output_type": "stream",
     "text": [
      "Epoch 92999 : Train Accuracy : 0.92962, \tValid  Accuracy : 0.9334,\t Train Loss : 11708.44418954411, \tValid Loss :  2316.259392334541 , Time for 1000 epochs : 1.4995662980072666\n"
     ]
    },
    {
     "name": "stdout",
     "output_type": "stream",
     "text": [
      "Epoch 138999 : Train Accuracy : 0.93464, \tValid  Accuracy : 0.9356,\t Train Loss : 10717.185814146269, \tValid Loss :  2250.4419111793577 , Time for 1000 epochs : 1.2567932470119558\n"
     ]
    },
    {
     "name": "stdout",
     "output_type": "stream",
     "text": [
      "Epoch 185999 : Train Accuracy : 0.94482, \tValid  Accuracy : 0.9451,\t Train Loss : 8991.144781484385, \tValid Loss :  1899.3666333692317 , Time for 1000 epochs : 1.6771262149850372\n"
     ]
    },
    {
     "name": "stdout",
     "output_type": "stream",
     "text": [
      "Epoch 231999 : Train Accuracy : 0.94566, \tValid  Accuracy : 0.9442,\t Train Loss : 8807.712165910507, \tValid Loss :  1930.3076458798341 , Time for 1000 epochs : 2.5605794889852405\n"
     ]
    },
    {
     "name": "stdout",
     "output_type": "stream",
     "text": [
      "Epoch 278999 : Train Accuracy : 0.95384, \tValid  Accuracy : 0.9479,\t Train Loss : 7435.216991438619, \tValid Loss :  1782.9315668644495 , Time for 1000 epochs : 1.269394167989958\n"
     ]
    },
    {
     "name": "stdout",
     "output_type": "stream",
     "text": [
      "Epoch 325999 : Train Accuracy : 0.95982, \tValid  Accuracy : 0.9512,\t Train Loss : 6540.123151661706, \tValid Loss :  1738.3592891625415 , Time for 1000 epochs : 1.6089662309968844\n"
     ]
    },
    {
     "name": "stdout",
     "output_type": "stream",
     "text": [
      "Epoch 372999 : Train Accuracy : 0.96506, \tValid  Accuracy : 0.9558,\t Train Loss : 5660.443510722478, \tValid Loss :  1579.492278610961 , Time for 1000 epochs : 1.6428420380107127\n"
     ]
    },
    {
     "name": "stdout",
     "output_type": "stream",
     "text": [
      "Epoch 419999 : Train Accuracy : 0.96594, \tValid  Accuracy : 0.9566,\t Train Loss : 5304.336370234045, \tValid Loss :  1576.8097823039313 , Time for 1000 epochs : 1.3617110770137515\n"
     ]
    },
    {
     "name": "stdout",
     "output_type": "stream",
     "text": [
      "Epoch 465999 : Train Accuracy : 0.96988, \tValid  Accuracy : 0.9582,\t Train Loss : 4920.260263144895, \tValid Loss :  1538.2721965930348 , Time for 1000 epochs : 2.852624327002559\n"
     ]
    },
    {
     "name": "stdout",
     "output_type": "stream",
     "text": [
      "Epoch 511999 : Train Accuracy : 0.97142, \tValid  Accuracy : 0.9581,\t Train Loss : 4686.318335463035, \tValid Loss :  1547.148203005251 , Time for 1000 epochs : 1.5953124139923602\n"
     ]
    },
    {
     "name": "stdout",
     "output_type": "stream",
     "text": [
      "Epoch 557999 : Train Accuracy : 0.9725, \tValid  Accuracy : 0.9585,\t Train Loss : 4417.028859358916, \tValid Loss :  1538.1130241288588 , Time for 1000 epochs : 1.0140147999918554\n"
     ]
    },
    {
     "name": "stdout",
     "output_type": "stream",
     "text": [
      "Epoch 603999 : Train Accuracy : 0.97366, \tValid  Accuracy : 0.9581,\t Train Loss : 4226.978810656567, \tValid Loss :  1542.2553398994592 , Time for 1000 epochs : 1.3299221390043385\n"
     ]
    },
    {
     "name": "stdout",
     "output_type": "stream",
     "text": [
      "Epoch 649999 : Train Accuracy : 0.97568, \tValid  Accuracy : 0.9583,\t Train Loss : 3967.457783213589, \tValid Loss :  1536.9484731841044 , Time for 1000 epochs : 2.686114759009797\n"
     ]
    },
    {
     "name": "stdout",
     "output_type": "stream",
     "text": [
      "Epoch 695999 : Train Accuracy : 0.97568, \tValid  Accuracy : 0.9577,\t Train Loss : 3895.1714326353936, \tValid Loss :  1545.2168340117198 , Time for 1000 epochs : 1.2638434679829516\n"
     ]
    },
    {
     "name": "stdout",
     "output_type": "stream",
     "text": [
      "Epoch 741999 : Train Accuracy : 0.97702, \tValid  Accuracy : 0.957,\t Train Loss : 3806.0614381849136, \tValid Loss :  1578.1988502975987 , Time for 1000 epochs : 1.241922954999609\n"
     ]
    },
    {
     "name": "stdout",
     "output_type": "stream",
     "text": [
      "Epoch 799999 : Train Accuracy : 0.97776, \tValid  Accuracy : 0.9585,\t Train Loss : 3686.6602125788454, \tValid Loss :  1579.0263264744342 , Time for 1000 epochs : 1.4718673239985947\n"
     ]
    }
   ],
   "source": [
    "trainLogSAG = train_loopSAG(800000)"
   ]
  },
  {
   "cell_type": "markdown",
   "metadata": {},
   "source": [
    "#### Fonction pour calculer le temps en fonction de chaque epochs. "
   ]
  },
  {
   "cell_type": "code",
   "execution_count": 25,
   "metadata": {},
   "outputs": [],
   "source": [
    "def calculatesTimes(X):\n",
    "    newArr = []\n",
    "    newArr.append(X[0])\n",
    "    for i in range(1, len(X)):\n",
    "        newArr.append(X[i] + newArr[i-1])\n",
    "    return newArr"
   ]
  },
  {
   "cell_type": "markdown",
   "metadata": {},
   "source": [
    "# Graphiques, comparaison et discussion."
   ]
  },
  {
   "cell_type": "code",
   "execution_count": 149,
   "metadata": {},
   "outputs": [
    {
     "name": "stderr",
     "output_type": "stream",
     "text": [
      "/Users/francoisdavid/miniconda3/lib/python3.7/site-packages/IPython/core/pylabtools.py:128: UserWarning: Creating legend with loc=\"best\" can be slow with large amounts of data.\n",
      "  fig.canvas.print_figure(bytes_io, **kw)\n"
     ]
    },
    {
     "data": {
      "image/png": "[encoded data removed]",
      "text/plain": [
       "<Figure size 432x288 with 1 Axes>"
      ]
     },
     "metadata": {
      "needs_background": "light"
     },
     "output_type": "display_data"
    }
   ],
   "source": [
    "plt.plot(calculatesTimes(trainLogSG[\"time\"]), trainLogSG[\"train_lossSG\"] )\n",
    "plt.plot(calculatesTimes(trainLogFD[\"time\"]), trainLogFD[\"train_lossFD\"] )\n",
    "plt.plot(calculatesTimes(trainLogSAG[\"time\"][:800]), trainLogSAG[\"train_lossFD\"][:800] )\n",
    "\n",
    "\n",
    "plt.xlabel('Temps en Secondes')\n",
    "plt.ylabel('Erreur d\\'entropie croisée')\n",
    "\n",
    "plt.legend([\"Stochastic Gradient\", \"Finite  Gradient\" , \"Stochastic Average Gradient\"])\n",
    "plt.title(\"Convergence de l'erreur d\\'entropie croisée des 3 algorithmes sur le dataset MNIST\")\n",
    "plt.show()"
   ]
  },
  {
   "cell_type": "markdown",
   "metadata": {},
   "source": [
    "## Analyse"
   ]
  },
  {
   "cell_type": "markdown",
   "metadata": {},
   "source": [
    "Comparativement, nous pouvons voir que l'algorithme du SAG converge de façon très rapide vers l'optimum. Au départ, puisque les index visités sont minimes, l'algorithme du SAG diminue très rapidement l'erreur tel l'algorithme du Stochastic Gradient. Par la suite, plus les itérations se multiplient, plus la moyenne des gradients visités prend en considération plus de paires du de l'ensemble d'entrainement et, par ce fait même, des tendances de l'algorithme du Finite Gradient."
   ]
  },
  {
   "cell_type": "code",
   "execution_count": 350,
   "metadata": {},
   "outputs": [
    {
     "name": "stdout",
     "output_type": "stream",
     "text": [
      "SG Temps pour 1000 itérations:  0.7366669293014857  secondes\n",
      "FD Temps pour 1 itération:  15.659318439675554  secondes\n",
      "SAG Temps pour 1000 itérations:  1.6737234646915748  secondes\n"
     ]
    }
   ],
   "source": [
    "print(\"SG Temps pour 1000 itérations: \", np.array(trainLogSG[\"time\"]).mean() * 1000 , \" secondes\")\n",
    "print(\"FD Temps pour 1 itération: \", np.array(trainLogFD[\"time\"]).mean(), \" secondes\")\n",
    "print(\"SAG Temps pour 1000 itérations: \", np.array(trainLogSAG[\"time\"][:800]).mean(), \" secondes\")"
   ]
  },
  {
   "cell_type": "markdown",
   "metadata": {},
   "source": [
    "L'algorithme du Finite Gradient est celui qui prend le plus de temps puisqu'il itère sur toutes les données de  l'ensemble d'entrainement, pour un total de 80 \"effectives passes\" à travers les données ($80 \\times 50 000$ calculations de gradients pour 80 modifications de paramètres du réseau de neurones). Chacune de ces modifications prenait environ 15.66 secondes à être calculée. \n",
    "Comparativement à l'algorithme du Stochastic Gradient, le SAG prend un peu plus de temps (pour le même nombre d'évaluation de fonctions/itérations) principalement puisque nous devons ajuster le dictionnaire de mémoire des gradients ainsi que le déplacement avec la moyenne des index recherchés. Pour 1000 itérations (modifications des paramètres) l'algorithme SG prend environ 0.73 secondes / 1000 itérations  alors que le SAG prend environ 1.6737 secondes  / 1000 itérations."
   ]
  },
  {
   "cell_type": "markdown",
   "metadata": {},
   "source": [
    "Il est facile de voir que,  au  départ, l'algorithme du Stochastic Gradient converge rapidement vers l'optimum. Cependant, il se met à osciller vers  la valeur d'environ 18000 de l'erreur d'entropy-croisée puisque les modifications faites à l'algorithme ne reflètent pas toutes les fonctions désirées (paires de données) et ne représente pas une direction de descente générale vers l'optimum. De plus, nous pouvons constater que le SAG obtient les mêmes tendances que le SG (converge rapide au départ) mais n'oscille pas beaucoup dans la convergence puisque les fonctions prises en compte dans le gradient de déplacement sont plus nombreuses et donc plus générales, ce qui permet d'avoir une meilleure estimation de la descente optimale.  "
   ]
  },
  {
   "cell_type": "markdown",
   "metadata": {},
   "source": [
    "Après les premières itérations de l'algorithme, le SAG devient similaire au Finite Gradient tout en gardant un coût d'itération de O(1) comparativement à O(n) pour le Finite Gradient. Au final, pour un considérable laps de temps, nous  pouvons donc voir que le SAG se rapproche plus rapidement de l'optimum que le FG et devrait être utilisé si nous n'avons pas assez de ressources/temps pour évaluer les finite gradient jusqu'à point minimum (optimum) de la fonction g(x). "
   ]
  },
  {
   "cell_type": "markdown",
   "metadata": {},
   "source": [
    "Il est important de noter que dans l'algorithme du Stochastic Gradient ainsi que le Stochastic Average Gradient, je n'ai pas utilisé de Minibatch pour pouvoir observer les tendances des algorithmes standards (sans prendre avantage de la computation en parallèle des architectures modernes).  Cependant, il pourrait être intéressant de comparer les algorithmes avec les minibatchs puisque de ce fait, les gradients calculés à chaque itération seraient une moyennes d'un nombre arbitraire de fonctions/paires de données et seraient donc plus représentatifs du gradient optimal. Dans cette même optique, le calcul des gradients dans l'algorithme du Finite Difference est fait un à la fois pour ne pas qu'un algorithme soit avantagé par la computation en parallèle."
   ]
  },
  {
   "cell_type": "markdown",
   "metadata": {},
   "source": [
    "#### Évaluation similaire sur le set de validation."
   ]
  },
  {
   "cell_type": "code",
   "execution_count": 351,
   "metadata": {
    "scrolled": true
   },
   "outputs": [
    {
     "name": "stderr",
     "output_type": "stream",
     "text": [
      "/Users/francoisdavid/miniconda3/lib/python3.7/site-packages/IPython/core/pylabtools.py:128: UserWarning: Creating legend with loc=\"best\" can be slow with large amounts of data.\n",
      "  fig.canvas.print_figure(bytes_io, **kw)\n"
     ]
    },
    {
     "data": {
      "image/png": "[encoded data removed]",
      "text/plain": [
       "<Figure size 432x288 with 1 Axes>"
      ]
     },
     "metadata": {
      "needs_background": "light"
     },
     "output_type": "display_data"
    }
   ],
   "source": [
    "plt.plot(calculatesTimes(trainLogSG[\"time\"]), trainLogSG[\"validation_lossSG\"] )\n",
    "plt.plot(calculatesTimes(trainLogFD[\"time\"]), trainLogFD[\"validation_lossFD\"] )\n",
    "plt.plot(calculatesTimes(trainLogSAG[\"time\"][:800]), trainLogSAG[\"validation_lossFD\"][:800] )\n",
    "\n",
    "plt.xlabel('Temps en Secondes')\n",
    "plt.ylabel('Erreur d\\'entropie croisée')\n",
    "\n",
    "plt.legend([\"Stochastic Gradient\", \"Finite  Gradient\" , \"Stochastic Average Gradient\"])\n",
    "plt.title(\"Convergence de l'erreur d\\'entropie croisée des 3 algorithmes sur le dataset MNIST (Validation)\")\n",
    "plt.show()"
   ]
  },
  {
   "cell_type": "markdown",
   "metadata": {},
   "source": [
    "Nous pouvons voir que les mêmes tendances sont observées sur le set de validation comparativement au set d'entrainement. Ce qui signifie que les tendances sont représentatives des données similaires au MNIST et le modèle peut performer de manière similaire sur de nouvelles images du même type. "
   ]
  },
  {
   "cell_type": "markdown",
   "metadata": {},
   "source": [
    "### Discusion  sur les conditions d'arrêt des algorithmes. "
   ]
  },
  {
   "cell_type": "markdown",
   "metadata": {},
   "source": [
    "Une des questions importantes dans l'entrainement des algorithmes d'entrainement de Deep Learning est les conditions d'arrêts, soit quand devons-nous arrêter d'entrainer notre réseau de neurones. Pour l'algorithme du Stochastic Average Gradient ainsi que celui du Finite Gradient, il devrait toujours se diriger de manière relativement constante vers l'objectif X*. Dans ce cas, il est avantageux d'exécuter l'algorithme pour le plus de temps possible jusqu'à ce qu'il ait atteint le seuil de précision espéré. Ces algorithmes se dirigent vers l'optimum de manière linéaire avec un taux de convergence de $g^k$ pour $0<g<1$. Cependant, le Stochastic Average Gradient prend en considération que le gradient de chaque fonction sélectionnée est relativement proche du gradient des prochaines itérations. Dans quelques situations, il se peut que ce ne soit pas le cas et que le modèle ne s'améliore pas à chaque itération. Dans ce cas, il serait préférable d'avoir une condition d'arrêt si le modèle n'améliore pas la situation actuelle (comme le \"Early-Stopping\" discuté dans le dernier paragraphe de cette sous-section. "
   ]
  },
  {
   "cell_type": "markdown",
   "metadata": {},
   "source": [
    "Dans le cas de l'algorithme du Stochastic Gradient, il converge vers l'optimum de manière sous-linéaire avec un  taux de convergence de $1/k$. Après un grand nombre d'itérations k, le progrès marginal vers la solution diminue grandement et puisque chaque itération de cet algorithme ne prend en considération qu'une paire de données de l'ensemble d'entrainement, l'algorithme peut osciller puisque le gradient calculé n'était pas le gradient optimal.  Donc un point à une certaine itération antérieure peut avoir obtenu une meilleure optimisation de  l'objectif."
   ]
  },
  {
   "cell_type": "markdown",
   "metadata": {},
   "source": [
    "Une technique utile pour le Stochastic Gradient est une version de ce qui est appelé l' \"early-stopping\" où nous calculons à chaque itération le résultat de la fonction objectif, gardons en mémoire les paramètres de l'itération à laquelle la fonction objective était la plus optimale. Lorsque ce résultat n'a pas été améliorer (diminuer dans ce cas-ci) pour un certain nombre d'itérations, nous arrêtons l'algorithme et utilisons les paramètres qui ont été sauvegardés à l'itération durant laquelle la solution était la plus optimale. "
   ]
  },
  {
   "cell_type": "markdown",
   "metadata": {},
   "source": [
    "### Approche avec une technique de \"Retrospective Approximation\" adaptée"
   ]
  },
  {
   "cell_type": "markdown",
   "metadata": {},
   "source": [
    "Dans cet algorithme, j'utilise les concepts de Retrospective Approximation pour tenter d'obtenir un comparatif avec les trois algorithmes étudiés plus haut.  Je commence l'algorithme avec un ensemble de 100 fonctions (paires de données) et je modifie l'architecture avec le finite gradient sur cet ensemble (rapide et précis la taille de cet ensemble n'est pas grande) pour obtenir un niveau d'erreur de précision de classification de $ 80\\% \\times \\left(\\frac{99}{100}\\right)^k $, ou k est l'itération actuelle. Cette séquence tend vers 0 alors que les itérations s'accumulent, nous sommes donc de plus en plus exigeants par rapport à la performance de l'algorithme."
   ]
  },
  {
   "cell_type": "markdown",
   "metadata": {},
   "source": [
    "À chaque itération, la taille des échantillons correspond à $ 100 + (100)k $, ou k est l'itération actuelle. Donc la taille de l'échantillon que nous prenons en compte augmente de 100 nouvelles fonctions/paires de données à chaque itération. La séquence des Ws peut être décrite par à l'iteration k par :  $1/2$ à l'itération actuelle et $1/{2^{k+1-i}}$ pour tous les index des itérations antérieures i. À chaque itération, je m'assure de prendre les données d'entrainement qui n'ont pas été choisies à l'itération précédente en gardant un index modulo de la taille de cet ensemble. Dans cet exemple simpliste, l'échantillon est augmenté linéairement et inclus continuellement de nouvelles fonctions f(x)."
   ]
  },
  {
   "cell_type": "markdown",
   "metadata": {},
   "source": [
    "Après plusieurs essais-erreurs, j'ai également constaté qu'il était peut-être plus adéquat de ne plus diminuer l'erreur désirée lorsqu'elle devenait inférieure à 4% puisque les itérations prenaient une large durée de temps pour converger sans trop faire de progrès sur l'ensemble des données et je ne voulais pas que l'algorithme \"overtrain\" sur les données de l'échantillon. De plus, dans les 3 algorithmes plus haut, l'erreur de précision de classification devient rarement en dessous de 3-4 % pour l'ensemble des 50 000 paires de données. "
   ]
  },
  {
   "cell_type": "code",
   "execution_count": 375,
   "metadata": {},
   "outputs": [],
   "source": [
    "def train_loopRetroApprox(iterations):\n",
    "    train_logs = {'train_accuracyFD': [], 'validation_accuracyFD': [], 'train_lossFD': [], 'validation_lossFD': [], 'time': []}\n",
    "    X_trainAll, y_trainAll = train\n",
    "    y_onehot = y_trainAll\n",
    "    dims = [X_trainAll.shape[1], y_onehot.shape[1]]\n",
    "    hidden_dims = hidden_dims = (64, 32)\n",
    "    weights = initialize_weights(dims, hidden_dims)\n",
    "    batch_size = 1\n",
    "    alpha = 0.9999\n",
    "       \n",
    "    # Selection du premier sample size. \n",
    "    sampleSize = 100 \n",
    "    iteration =  0\n",
    "    ErrorThreshold = 0.8\n",
    "    ErrorPercent = 1.0\n",
    "    weightsX =  {} \n",
    "    previousLoss = 2147483647 # Le plus grand integer possible (python)\n",
    "    \n",
    "    cumulativeIndex = 0  # Pour regarder quelles fonctions on été évaluées.\n",
    "    gradsOld = {}\n",
    "    for iteration in range(iterations):\n",
    "        start = timeit.default_timer()\n",
    "        # Reset l'erreur pour quelle soit re-calculé avec la nouvelle taille d'échatillon (sampleSize) \n",
    "        ErrorPercent = 1.0\n",
    "        \n",
    "        Xt, yt = train\n",
    "        X_trainS = Xt[:sampleSize, :]\n",
    "        y_trainS = yt[:sampleSize, :]\n",
    "        \n",
    "        Xv, yv = valid\n",
    "        X_validS = Xv[:sampleSize, :]\n",
    "        y_validS = yv[:sampleSize, :]\n",
    "        \n",
    "        # Ajuster le taux d'apprentissage.\n",
    "        subAlpha = alpha\n",
    "        \n",
    "       \n",
    "        while(ErrorPercent >  ErrorThreshold):\n",
    "            #  Selection d'un index aléatoire dépendament du nombre de donnée dans le training data.\n",
    "            gradsS = {}\n",
    "            for i in range(sampleSize):  # La grosseur du training set.\n",
    "                #print(sampleSize, X_trainS.shape)\n",
    "                \n",
    "                batchX = X_trainS[1 * (i + cumulativeIndex):1 * (i + cumulativeIndex + 1), :]\n",
    "                batchY = y_trainS[1 * (i + cumulativeIndex):1 * (i + cumulativeIndex + 1), :]\n",
    "                cumulativeIndex += 1 \n",
    "                # Regarder pour s'assurer de ne pas aller à l'extérieur de l'ensemble à la prochaine calculation. \n",
    "                if cumulativeIndex == 49999:\n",
    "                    cumulativeIndex = 0 \n",
    "                \n",
    "                cache = forward(batchX, weights, hidden_dims)\n",
    "                grads = backward(weights, cache, batchY, hidden_dims)\n",
    "\n",
    "                # Pour tous les éléments, les additionner pour pouvoir diviser et obtenir la moyenne.\n",
    "                # Si pas la première itération, additionner les nouveaux grads,\n",
    "                if i != 0:\n",
    "                    gradsS['dW3'] += grads[\"dW3\"]\n",
    "                    gradsS[\"dW2\"] += grads[\"dW2\"]\n",
    "                    gradsS[\"dW1\"] += grads[\"dW1\"]\n",
    "                    gradsS[\"db3\"] += grads[\"db3\"]\n",
    "                    gradsS[\"db2\"] += grads[\"db2\"]\n",
    "                    gradsS[\"db1\"] += grads[\"db1\"]\n",
    "                # Si la première itérations, initialiser les gradients avec les gradients respectifs.\n",
    "                else:\n",
    "                    gradsS['dW3'] = grads[\"dW3\"]\n",
    "                    gradsS[\"dW2\"] = grads[\"dW2\"]\n",
    "                    gradsS[\"dW1\"] = grads[\"dW1\"]\n",
    "                    gradsS[\"db3\"] = grads[\"db3\"]\n",
    "                    gradsS[\"db2\"] = grads[\"db2\"]\n",
    "                    gradsS[\"db1\"] = grads[\"db1\"]\n",
    "            if iteration == 0 : \n",
    "                # Diviser pour obtenir la moyenne de chaque gradients.\n",
    "                gradsOld['dW3'] = gradsS[\"dW3\"] * 1 / sampleSize\n",
    "                gradsOld[\"dW2\"] = gradsS[\"dW2\"] * 1 / sampleSize\n",
    "                gradsOld[\"dW1\"] = gradsS[\"dW1\"] * 1 / sampleSize\n",
    "                gradsOld[\"db3\"] = gradsS[\"db3\"] * 1 / sampleSize\n",
    "                gradsOld[\"db2\"] = gradsS[\"db2\"] * 1 / sampleSize\n",
    "                gradsOld[\"db1\"] = gradsS[\"db1\"] * 1 / sampleSize\n",
    "            else : \n",
    "                gradsOld['dW3'] = (gradsS[\"dW3\"] + gradsOld[\"dW3\"]) / sampleSize * 2\n",
    "                gradsOld[\"dW2\"] = (gradsS[\"dW2\"] + gradsOld[\"dW2\"]) / sampleSize * 2\n",
    "                gradsOld[\"dW1\"] = (gradsS[\"dW1\"] + gradsOld[\"dW1\"]) / sampleSize * 2\n",
    "                gradsOld[\"db3\"] = (gradsS[\"db3\"] + gradsOld[\"db3\"]) / sampleSize * 2\n",
    "                gradsOld[\"db2\"] = (gradsS[\"db2\"] + gradsOld[\"db2\"]) / sampleSize * 2\n",
    "                gradsOld[\"db1\"] = (gradsS[\"db1\"] + gradsOld[\"db1\"]) / sampleSize * 2\n",
    "            \n",
    "            # Updater les weights.\n",
    "            weights = update(gradsOld, weights, hidden_dims, subAlpha)\n",
    "            \n",
    "            # Calculate the loss according to the sample selected.\n",
    "            train_loss, train_accuracy, _ = compute_loss_and_accuracy(X_trainS, y_trainS, weights, hidden_dims)\n",
    "            valid_loss, valid_accuracy, _ = compute_loss_and_accuracy(X_validS, y_validS, weights, hidden_dims)\n",
    "           \n",
    "            # Changer l'erreur selon la sous-itération avec le sous échantions de cette itération.\n",
    "            ErrorPercent = 1.0 - train_accuracy \n",
    "            # Modifier le taux d'apprentissage.\n",
    "            if(ErrorPercent  >  ErrorThreshold):\n",
    "                subAlpha *= .98888888\n",
    "\n",
    "        print(\"\\t\\tErrorPercent on sample: \",  ErrorPercent, \"ErrorThreshold: \", ErrorThreshold)\n",
    "        # Arrêter le timer pour calculer cette itération.\n",
    "        stop = timeit.default_timer()\n",
    "        \n",
    "        # Calculer la loss sur tout l'ensemble des données pour voir la convergence\n",
    "        X_trainAll, y_trainAll = train\n",
    "        train_lossAll, train_accuracyAll, _ = compute_loss_and_accuracy(X_trainAll, y_trainAll, weights, hidden_dims)\n",
    "        X_validAll, y_validAll = valid\n",
    "        valid_lossAll, valid_accuracyAll, _ = compute_loss_and_accuracy(X_validAll, y_validAll, weights, hidden_dims)\n",
    "        \n",
    "        if train_loss > previousLoss:\n",
    "            alpha  = alpha  *  .923\n",
    "        previousLoss = train_lossAll\n",
    "        \n",
    "        # Augmenter le sampleSize et diminuer l'erreur voulu\n",
    "        sampleSize += 100 \n",
    "        \n",
    "        #  J'ai réaliser que ça prennait trop de temps a converger lorsque le seuil d'erreur devenait trop petit. \n",
    "        if ErrorThreshold > 0.04:\n",
    "            ErrorThreshold  *= 95/100\n",
    "        \n",
    "        # Imprimer la loss et la precision. Ça l'aide a suivre le progrès\n",
    "        print(f\"Iteration {iteration} : Train Accuracy : {train_accuracyAll}, \\tValid  Accuracy : {valid_accuracyAll},\\t Train Loss : {train_lossAll}, \\tValid Loss :  {valid_lossAll} , Time : {stop - start}\")\n",
    "       \n",
    "        train_logs['train_accuracyFD'].append(train_accuracyAll)\n",
    "        train_logs['validation_accuracyFD'].append(valid_accuracyAll)\n",
    "        train_logs['train_lossFD'].append(train_lossAll)\n",
    "        train_logs['validation_lossFD'].append(valid_lossAll)\n",
    "        train_logs['time'].append(stop - start)\n",
    "        \n",
    "\n",
    "    return train_logs"
   ]
  },
  {
   "cell_type": "code",
   "execution_count": 376,
   "metadata": {},
   "outputs": [
    {
     "name": "stdout",
     "output_type": "stream",
     "text": [
      "\t\tErrorPercent on sample:  0.71 ErrorThreshold:  0.8\n",
      "Iteration 0 : Train Accuracy : 0.21762, \tValid  Accuracy : 0.2249,\t Train Loss : 111199.37841812246, \tValid Loss :  22173.677844642407 , Time : 0.029593589017167687\n",
      "\t\tErrorPercent on sample:  0.64 ErrorThreshold:  0.76\n",
      "Iteration 1 : Train Accuracy : 0.26276, \tValid  Accuracy : 0.2719,\t Train Loss : 106838.89891156142, \tValid Loss :  21279.955512631044 , Time : 0.04899125901283696\n",
      "\t\tErrorPercent on sample:  0.6833333333333333 ErrorThreshold:  0.722\n",
      "Iteration 2 : Train Accuracy : 0.26164, \tValid  Accuracy : 0.2707,\t Train Loss : 106857.96045766973, \tValid Loss :  21283.5995140957 , Time : 0.0636680269963108\n",
      "\t\tErrorPercent on sample:  0.5575 ErrorThreshold:  0.6859\n",
      "Iteration 3 : Train Accuracy : 0.3598, \tValid  Accuracy : 0.384,\t Train Loss : 102390.6732491153, \tValid Loss :  20320.453019215416 , Time : 10.055391487956513\n",
      "\t\tErrorPercent on sample:  0.524 ErrorThreshold:  0.6516049999999999\n",
      "Iteration 4 : Train Accuracy : 0.40052, \tValid  Accuracy : 0.4208,\t Train Loss : 92234.6489429849, \tValid Loss :  18110.93197567271 , Time : 0.08942485402803868\n",
      "\t\tErrorPercent on sample:  0.5383333333333333 ErrorThreshold:  0.6190247499999999\n",
      "Iteration 5 : Train Accuracy : 0.40038, \tValid  Accuracy : 0.4208,\t Train Loss : 92218.84072937869, \tValid Loss :  18107.322477505466 , Time : 0.10209011501865461\n",
      "\t\tErrorPercent on sample:  0.5485714285714286 ErrorThreshold:  0.5880735124999998\n",
      "Iteration 6 : Train Accuracy : 0.40038, \tValid  Accuracy : 0.4208,\t Train Loss : 92218.79575300377, \tValid Loss :  18107.31221076688 , Time : 0.1156942350207828\n",
      "\t\tErrorPercent on sample:  0.55625 ErrorThreshold:  0.5586698368749998\n",
      "Iteration 7 : Train Accuracy : 0.43024, \tValid  Accuracy : 0.4487,\t Train Loss : 92667.37302365, \tValid Loss :  18205.9496876263 , Time : 7.307628330017906\n",
      "\t\tErrorPercent on sample:  0.4144444444444444 ErrorThreshold:  0.5307363450312498\n",
      "Iteration 8 : Train Accuracy : 0.56432, \tValid  Accuracy : 0.5881,\t Train Loss : 83253.71039856774, \tValid Loss :  16253.707582140178 , Time : 0.14317441399907693\n",
      "\t\tErrorPercent on sample:  0.42200000000000004 ErrorThreshold:  0.5041995277796872\n",
      "Iteration 9 : Train Accuracy : 0.56436, \tValid  Accuracy : 0.5882,\t Train Loss : 83247.10976869623, \tValid Loss :  16252.235262255841 , Time : 0.15384785900823772\n",
      "\t\tErrorPercent on sample:  0.42727272727272725 ErrorThreshold:  0.4789895513907029\n",
      "Iteration 10 : Train Accuracy : 0.56436, \tValid  Accuracy : 0.5882,\t Train Loss : 83247.0978127991, \tValid Loss :  16252.23259528753 , Time : 0.17495489498833194\n",
      "\t\tErrorPercent on sample:  0.43166666666666664 ErrorThreshold:  0.45504007382116773\n",
      "Iteration 11 : Train Accuracy : 0.56436, \tValid  Accuracy : 0.5882,\t Train Loss : 83247.09779287275, \tValid Loss :  16252.232590842601 , Time : 0.19991365098394454\n",
      "\t\tErrorPercent on sample:  0.40076923076923077 ErrorThreshold:  0.43228807013010934\n",
      "Iteration 12 : Train Accuracy : 0.53832, \tValid  Accuracy : 0.5661,\t Train Loss : 79653.42933915902, \tValid Loss :  15520.167502314518 , Time : 22.338822193967644\n",
      "\t\tErrorPercent on sample:  0.40714285714285714 ErrorThreshold:  0.41067366662360383\n",
      "Iteration 13 : Train Accuracy : 0.53844, \tValid  Accuracy : 0.566,\t Train Loss : 79628.57665678213, \tValid Loss :  15514.997946169575 , Time : 0.2506532829720527\n",
      "\t\tErrorPercent on sample:  0.3853333333333333 ErrorThreshold:  0.3901399832924236\n",
      "Iteration 14 : Train Accuracy : 0.56976, \tValid  Accuracy : 0.5879,\t Train Loss : 70694.94140218881, \tValid Loss :  13654.679621541434 , Time : 6.76643261697609\n",
      "\t\tErrorPercent on sample:  0.338125 ErrorThreshold:  0.37063298412780243\n",
      "Iteration 15 : Train Accuracy : 0.6386, \tValid  Accuracy : 0.6705,\t Train Loss : 62684.259937338415, \tValid Loss :  12073.307444443572 , Time : 0.2812801169930026\n",
      "\t\tErrorPercent on sample:  0.33705882352941174 ErrorThreshold:  0.3521013349214123\n",
      "Iteration 16 : Train Accuracy : 0.63856, \tValid  Accuracy : 0.6704,\t Train Loss : 62682.51429593337, \tValid Loss :  12072.953919097945 , Time : 0.3402741789468564\n",
      "\t\tErrorPercent on sample:  0.33444444444444443 ErrorThreshold:  0.33449626817534167\n",
      "Iteration 17 : Train Accuracy : 0.63856, \tValid  Accuracy : 0.6704,\t Train Loss : 62682.512366200346, \tValid Loss :  12072.953528786788 , Time : 0.4192543250392191\n",
      "\t\tErrorPercent on sample:  0.28315789473684205 ErrorThreshold:  0.3177714547665746\n",
      "Iteration 18 : Train Accuracy : 0.68538, \tValid  Accuracy : 0.7146,\t Train Loss : 60378.97801468913, \tValid Loss :  11600.296461916667 , Time : 9.564649370964617\n",
      "\t\tErrorPercent on sample:  0.24050000000000005 ErrorThreshold:  0.30188288202824587\n",
      "Iteration 19 : Train Accuracy : 0.73118, \tValid  Accuracy : 0.7597,\t Train Loss : 48571.10485711706, \tValid Loss :  9206.883610301895 , Time : 39.3744380690041\n",
      "\t\tErrorPercent on sample:  0.24238095238095236 ErrorThreshold:  0.28678873792683357\n",
      "Iteration 20 : Train Accuracy : 0.73122, \tValid  Accuracy : 0.7598,\t Train Loss : 48559.608268673226, \tValid Loss :  9204.532746420446 , Time : 0.33414464199449867\n",
      "\t\tErrorPercent on sample:  0.24 ErrorThreshold:  0.27244930103049186\n",
      "Iteration 21 : Train Accuracy : 0.73122, \tValid  Accuracy : 0.7598,\t Train Loss : 48559.59785974298, \tValid Loss :  9204.530617695204 , Time : 0.3475792810204439\n",
      "\t\tErrorPercent on sample:  0.241304347826087 ErrorThreshold:  0.2588268359789673\n",
      "Iteration 22 : Train Accuracy : 0.73122, \tValid  Accuracy : 0.7598,\t Train Loss : 48559.59785069168, \tValid Loss :  9204.530615844144 , Time : 0.3631031670374796\n",
      "\t\tErrorPercent on sample:  0.23958333333333337 ErrorThreshold:  0.2458854941800189\n",
      "Iteration 23 : Train Accuracy : 0.73122, \tValid  Accuracy : 0.7598,\t Train Loss : 48559.59785068415, \tValid Loss :  9204.530615842603 , Time : 0.3838106609764509\n",
      "\t\tErrorPercent on sample:  0.21440000000000003 ErrorThreshold:  0.23359121947101794\n",
      "Iteration 24 : Train Accuracy : 0.76386, \tValid  Accuracy : 0.7904,\t Train Loss : 42194.77003587672, \tValid Loss :  7924.148829809362 , Time : 6.233181386021897\n",
      "\t\tErrorPercent on sample:  0.19769230769230772 ErrorThreshold:  0.22191165849746702\n",
      "Iteration 25 : Train Accuracy : 0.78038, \tValid  Accuracy : 0.8043,\t Train Loss : 37059.534752568376, \tValid Loss :  6923.509931722158 , Time : 7.3690752210095525\n",
      "\t\tErrorPercent on sample:  0.17962962962962958 ErrorThreshold:  0.21081607557259366\n",
      "Iteration 26 : Train Accuracy : 0.78306, \tValid  Accuracy : 0.8053,\t Train Loss : 41345.72104784944, \tValid Loss :  7848.647309794004 , Time : 45.866898105014116\n",
      "\t\tErrorPercent on sample:  0.18071428571428572 ErrorThreshold:  0.20027527179396395\n",
      "Iteration 27 : Train Accuracy : 0.7831, \tValid  Accuracy : 0.8053,\t Train Loss : 41342.51231312592, \tValid Loss :  7847.908163619326 , Time : 0.4441601219587028\n",
      "\t\tErrorPercent on sample:  0.17862068965517242 ErrorThreshold:  0.19026150820426574\n",
      "Iteration 28 : Train Accuracy : 0.7831, \tValid  Accuracy : 0.8053,\t Train Loss : 41342.51010518204, \tValid Loss :  7847.907654979836 , Time : 0.45491917501203716\n",
      "\t\tErrorPercent on sample:  0.17800000000000005 ErrorThreshold:  0.18074843279405245\n",
      "Iteration 29 : Train Accuracy : 0.7831, \tValid  Accuracy : 0.8053,\t Train Loss : 41342.51010371018, \tValid Loss :  7847.907654640747 , Time : 0.4736094690160826\n",
      "\t\tErrorPercent on sample:  0.1412903225806451 ErrorThreshold:  0.1717110111543498\n",
      "Iteration 30 : Train Accuracy : 0.83096, \tValid  Accuracy : 0.8479,\t Train Loss : 31823.47411584601, \tValid Loss :  5926.721941043172 , Time : 21.60924718400929\n",
      "\t\tErrorPercent on sample:  0.14 ErrorThreshold:  0.1631254605966323\n",
      "Iteration 31 : Train Accuracy : 0.83096, \tValid  Accuracy : 0.848,\t Train Loss : 31823.496170666567, \tValid Loss :  5926.747151621774 , Time : 0.48603398399427533\n",
      "\t\tErrorPercent on sample:  0.14060606060606062 ErrorThreshold:  0.15496918756680067\n",
      "Iteration 32 : Train Accuracy : 0.83096, \tValid  Accuracy : 0.848,\t Train Loss : 31823.49618814136, \tValid Loss :  5926.747167561266 , Time : 0.6255930970073678\n",
      "\t\tErrorPercent on sample:  0.14117647058823535 ErrorThreshold:  0.14722072818846063\n",
      "Iteration 33 : Train Accuracy : 0.83096, \tValid  Accuracy : 0.848,\t Train Loss : 31823.496188151672, \tValid Loss :  5926.747167570639 , Time : 0.6761532530072145\n",
      "\t\tErrorPercent on sample:  0.12828571428571434 ErrorThreshold:  0.1398596917790376\n"
     ]
    },
    {
     "name": "stdout",
     "output_type": "stream",
     "text": [
      "Iteration 34 : Train Accuracy : 0.84466, \tValid  Accuracy : 0.8622,\t Train Loss : 28346.790711102418, \tValid Loss :  5167.807284004782 , Time : 13.285712484037504\n",
      "\t\tErrorPercent on sample:  0.1280555555555556 ErrorThreshold:  0.1328667071900857\n",
      "Iteration 35 : Train Accuracy : 0.84512, \tValid  Accuracy : 0.861,\t Train Loss : 26539.218590904195, \tValid Loss :  4843.461712721951 , Time : 44.28299803700065\n",
      "\t\tErrorPercent on sample:  0.11054054054054052 ErrorThreshold:  0.1262233718305814\n",
      "Iteration 36 : Train Accuracy : 0.85648, \tValid  Accuracy : 0.872,\t Train Loss : 25127.618580896382, \tValid Loss :  4580.237540164983 , Time : 22.480579782044515\n",
      "\t\tErrorPercent on sample:  0.1110526315789474 ErrorThreshold:  0.11991220323905233\n",
      "Iteration 37 : Train Accuracy : 0.85654, \tValid  Accuracy : 0.8719,\t Train Loss : 25127.888073738734, \tValid Loss :  4580.263596582722 , Time : 0.5676208170480095\n",
      "\t\tErrorPercent on sample:  0.11076923076923073 ErrorThreshold:  0.11391659307709971\n",
      "Iteration 38 : Train Accuracy : 0.85654, \tValid  Accuracy : 0.8719,\t Train Loss : 25127.888212510697, \tValid Loss :  4580.263610039066 , Time : 0.5779478129697964\n",
      "\t\tErrorPercent on sample:  0.09750000000000003 ErrorThreshold:  0.10822076342324471\n",
      "Iteration 39 : Train Accuracy : 0.8705, \tValid  Accuracy : 0.886,\t Train Loss : 22502.597329933436, \tValid Loss :  4072.745075589225 , Time : 12.807818412024062\n",
      "\t\tErrorPercent on sample:  0.10121951219512193 ErrorThreshold:  0.10280972525208247\n",
      "Iteration 40 : Train Accuracy : 0.86882, \tValid  Accuracy : 0.8856,\t Train Loss : 22089.490496170565, \tValid Loss :  3977.114761353334 , Time : 0.6803591209463775\n",
      "\t\tErrorPercent on sample:  0.09666666666666668 ErrorThreshold:  0.09766923898947834\n",
      "Iteration 41 : Train Accuracy : 0.87322, \tValid  Accuracy : 0.887,\t Train Loss : 21492.23587453512, \tValid Loss :  3861.8804868110424 , Time : 14.073011094005778\n",
      "\t\tErrorPercent on sample:  0.08372093023255811 ErrorThreshold:  0.09278577704000442\n",
      "Iteration 42 : Train Accuracy : 0.8832, \tValid  Accuracy : 0.8994,\t Train Loss : 19779.94245428637, \tValid Loss :  3521.6455465782674 , Time : 22.58407628297573\n",
      "\t\tErrorPercent on sample:  0.08363636363636362 ErrorThreshold:  0.08814648818800419\n",
      "Iteration 43 : Train Accuracy : 0.88316, \tValid  Accuracy : 0.8994,\t Train Loss : 19779.533109164324, \tValid Loss :  3521.56365360676 , Time : 0.6652861370239407\n",
      "\t\tErrorPercent on sample:  0.0822222222222222 ErrorThreshold:  0.08373916377860398\n",
      "Iteration 44 : Train Accuracy : 0.88572, \tValid  Accuracy : 0.9007,\t Train Loss : 19199.692140206, \tValid Loss :  3407.3146107625917 , Time : 6.542302682995796\n",
      "\t\tErrorPercent on sample:  0.07869565217391306 ErrorThreshold:  0.07955220558967377\n",
      "Iteration 45 : Train Accuracy : 0.88756, \tValid  Accuracy : 0.9001,\t Train Loss : 18869.471724356998, \tValid Loss :  3350.8982859381554 , Time : 14.281196500000078\n",
      "\t\tErrorPercent on sample:  0.07382978723404254 ErrorThreshold:  0.07557459531019008\n",
      "Iteration 46 : Train Accuracy : 0.89608, \tValid  Accuracy : 0.9081,\t Train Loss : 17605.107908041373, \tValid Loss :  3134.234918307164 , Time : 58.42313945898786\n",
      "\t\tErrorPercent on sample:  0.06937499999999996 ErrorThreshold:  0.07179586554468056\n",
      "Iteration 47 : Train Accuracy : 0.90078, \tValid  Accuracy : 0.9109,\t Train Loss : 16837.85955210923, \tValid Loss :  2997.1189603811104 , Time : 21.592253062000964\n",
      "\t\tErrorPercent on sample:  0.06632653061224492 ErrorThreshold:  0.06820607226744653\n",
      "Iteration 48 : Train Accuracy : 0.90208, \tValid  Accuracy : 0.9136,\t Train Loss : 16440.01920426516, \tValid Loss :  2927.5077770567445 , Time : 23.024524844950065\n",
      "\t\tErrorPercent on sample:  0.06440000000000001 ErrorThreshold:  0.0647957686540742\n",
      "Iteration 49 : Train Accuracy : 0.90304, \tValid  Accuracy : 0.916,\t Train Loss : 16209.766791477277, \tValid Loss :  2892.525471779763 , Time : 14.137833667977247\n",
      "\t\tErrorPercent on sample:  0.060196078431372535 ErrorThreshold:  0.06155598022137049\n",
      "Iteration 50 : Train Accuracy : 0.90578, \tValid  Accuracy : 0.915,\t Train Loss : 15881.355619626924, \tValid Loss :  2829.4739771073246 , Time : 21.75200538401259\n",
      "\t\tErrorPercent on sample:  0.058076923076923026 ErrorThreshold:  0.05847818121030196\n",
      "Iteration 51 : Train Accuracy : 0.90896, \tValid  Accuracy : 0.921,\t Train Loss : 15157.5076399962, \tValid Loss :  2706.503166606464 , Time : 36.84981974802213\n",
      "\t\tErrorPercent on sample:  0.05528301886792453 ErrorThreshold:  0.05555427214978686\n",
      "Iteration 52 : Train Accuracy : 0.91096, \tValid  Accuracy : 0.9206,\t Train Loss : 14777.074990529767, \tValid Loss :  2636.6035825844315 , Time : 15.612552666978445\n",
      "\t\tErrorPercent on sample:  0.05203703703703699 ErrorThreshold:  0.052776558542297514\n",
      "Iteration 53 : Train Accuracy : 0.91432, \tValid  Accuracy : 0.9243,\t Train Loss : 14215.710894132244, \tValid Loss :  2558.0072837203197 , Time : 51.54278122901451\n",
      "\t\tErrorPercent on sample:  0.04854545454545456 ErrorThreshold:  0.05013773061518263\n",
      "Iteration 54 : Train Accuracy : 0.9163, \tValid  Accuracy : 0.9258,\t Train Loss : 13858.931922225705, \tValid Loss :  2496.23268466224 , Time : 54.69137699302519\n",
      "\t\tErrorPercent on sample:  0.04749999999999999 ErrorThreshold:  0.0476308440844235\n",
      "Iteration 55 : Train Accuracy : 0.91642, \tValid  Accuracy : 0.9251,\t Train Loss : 13887.503351666259, \tValid Loss :  2496.9611361489347 , Time : 10.48811294999905\n",
      "\t\tErrorPercent on sample:  0.04456140350877191 ErrorThreshold:  0.045249301880202326\n",
      "Iteration 56 : Train Accuracy : 0.9178, \tValid  Accuracy : 0.9259,\t Train Loss : 13682.249901370631, \tValid Loss :  2476.9700966580413 , Time : 25.55186240799958\n",
      "\t\tErrorPercent on sample:  0.04293103448275859 ErrorThreshold:  0.04298683678619221\n",
      "Iteration 57 : Train Accuracy : 0.9199, \tValid  Accuracy : 0.9281,\t Train Loss : 13330.760883803301, \tValid Loss :  2409.7550918979728 , Time : 39.61700134596322\n",
      "\t\tErrorPercent on sample:  0.0394915254237288 ErrorThreshold:  0.040837494946882595\n",
      "Iteration 58 : Train Accuracy : 0.92088, \tValid  Accuracy : 0.9286,\t Train Loss : 13187.188120542647, \tValid Loss :  2400.0047007543526 , Time : 32.541182334010955\n",
      "\t\tErrorPercent on sample:  0.03849999999999998 ErrorThreshold:  0.038795620199538465\n",
      "Iteration 59 : Train Accuracy : 0.92218, \tValid  Accuracy : 0.929,\t Train Loss : 12994.56613401235, \tValid Loss :  2355.270012885373 , Time : 23.811162581958342\n",
      "\t\tErrorPercent on sample:  0.03836065573770486 ErrorThreshold:  0.038795620199538465\n",
      "Iteration 60 : Train Accuracy : 0.92202, \tValid  Accuracy : 0.9296,\t Train Loss : 13064.89493716516, \tValid Loss :  2372.098009285894 , Time : 1.4323776780511253\n",
      "\t\tErrorPercent on sample:  0.03806451612903228 ErrorThreshold:  0.038795620199538465\n",
      "Iteration 61 : Train Accuracy : 0.92202, \tValid  Accuracy : 0.9296,\t Train Loss : 13064.95995067688, \tValid Loss :  2372.111421891289 , Time : 1.2157806559698656\n",
      "\t\tErrorPercent on sample:  0.03857142857142859 ErrorThreshold:  0.038795620199538465\n",
      "Iteration 62 : Train Accuracy : 0.9221, \tValid  Accuracy : 0.9289,\t Train Loss : 13109.826781612952, \tValid Loss :  2373.0555671187212 , Time : 17.46410411101533\n",
      "\t\tErrorPercent on sample:  0.038124999999999964 ErrorThreshold:  0.038795620199538465\n",
      "Iteration 63 : Train Accuracy : 0.9228, \tValid  Accuracy : 0.9304,\t Train Loss : 12981.641599395021, \tValid Loss :  2356.3886354827937 , Time : 1.1952448569936678\n",
      "\t\tErrorPercent on sample:  0.03876923076923078 ErrorThreshold:  0.038795620199538465\n",
      "Iteration 64 : Train Accuracy : 0.9228, \tValid  Accuracy : 0.9304,\t Train Loss : 12981.6561664206, \tValid Loss :  2356.393385491793 , Time : 1.121679136005696\n",
      "\t\tErrorPercent on sample:  0.038787878787878816 ErrorThreshold:  0.038795620199538465\n",
      "Iteration 65 : Train Accuracy : 0.9228, \tValid  Accuracy : 0.9304,\t Train Loss : 12981.656170835417, \tValid Loss :  2356.3933869330635 , Time : 1.2625142720062286\n",
      "\t\tErrorPercent on sample:  0.03746268656716423 ErrorThreshold:  0.038795620199538465\n",
      "Iteration 66 : Train Accuracy : 0.9221, \tValid  Accuracy : 0.9287,\t Train Loss : 13058.296751148395, \tValid Loss :  2357.468717280734 , Time : 15.752863291010726\n",
      "\t\tErrorPercent on sample:  0.038088235294117645 ErrorThreshold:  0.038795620199538465\n",
      "Iteration 67 : Train Accuracy : 0.92348, \tValid  Accuracy : 0.9304,\t Train Loss : 12800.551272940387, \tValid Loss :  2329.083515102508 , Time : 1.5139988819719292\n"
     ]
    },
    {
     "name": "stdout",
     "output_type": "stream",
     "text": [
      "\t\tErrorPercent on sample:  0.038115942028985494 ErrorThreshold:  0.038795620199538465\n",
      "Iteration 68 : Train Accuracy : 0.9237, \tValid  Accuracy : 0.9301,\t Train Loss : 12781.798778080005, \tValid Loss :  2319.0566974184217 , Time : 6.997113585006446\n",
      "\t\tErrorPercent on sample:  0.03785714285714281 ErrorThreshold:  0.038795620199538465\n",
      "Iteration 69 : Train Accuracy : 0.92494, \tValid  Accuracy : 0.9341,\t Train Loss : 12557.190196289204, \tValid Loss :  2269.9109127521815 , Time : 77.10921359597705\n"
     ]
    }
   ],
   "source": [
    "trainLogRetroT = train_loopRetroApproxT(70)"
   ]
  },
  {
   "cell_type": "markdown",
   "metadata": {},
   "source": [
    "### Graphique et analyse des résultats"
   ]
  },
  {
   "cell_type": "code",
   "execution_count": 377,
   "metadata": {},
   "outputs": [
    {
     "name": "stderr",
     "output_type": "stream",
     "text": [
      "/Users/francoisdavid/miniconda3/lib/python3.7/site-packages/IPython/core/pylabtools.py:128: UserWarning: Creating legend with loc=\"best\" can be slow with large amounts of data.\n",
      "  fig.canvas.print_figure(bytes_io, **kw)\n"
     ]
    },
    {
     "data": {
      "image/png": "[encoded data removed]",
      "text/plain": [
       "<Figure size 432x288 with 1 Axes>"
      ]
     },
     "metadata": {
      "needs_background": "light"
     },
     "output_type": "display_data"
    }
   ],
   "source": [
    "plt.plot(calculatesTimes(trainLogSG[\"time\"]), trainLogSG[\"train_lossSG\"] , color='Blue')\n",
    "plt.plot(calculatesTimes(trainLogFD[\"time\"]), trainLogFD[\"train_lossFD\"], color ='Red' )\n",
    "plt.plot(calculatesTimes(trainLogSAG[\"time\"][:800]), trainLogSAG[\"train_lossFD\"][:800] ,color='Pink')\n",
    "plt.plot(calculatesTimes(trainLogRetro[\"time\"]), trainLogRetro[\"train_lossFD\"] , color='Yellow')\n",
    "\n",
    "plt.xlabel('Temps en Secondes')\n",
    "plt.ylabel('Erreur d\\'entropie croisée')\n",
    "\n",
    "plt.legend([\"Stochastic Gradient\", \"Finite  Gradient\" , \"Stochastic Average Gradient\", \"Retrospective Appoximation\"])\n",
    "plt.title(\"Convergence de l'erreur d\\'entropie croisée des 3 algorithmes sur le dataset MNIST\")\n",
    "plt.show()"
   ]
  },
  {
   "cell_type": "markdown",
   "metadata": {},
   "source": [
    "Nous pouvons voir que, au départ, cette technique adaptée du \"Retrospective Approximation\" converge rapidement vers l'optimum avant de se diriger de manière plutôt constante tel l'algorithme du SAG. L'algorithme du Retrospective Approximation a toutefois une plus  grande erreur que le SAG sur tout le graphique. À quelques reprises, lorsque la taille de l'échantillon augmente, l'algorithme prend un lap de temps considérable à obtenir une solution (qui satisfait le seuil d'erreur voulu) dépendamment des nouvelles données dans l'échantillon de chaque itération. Naturellement, plus l'échantillon est grand, plus le temps d'une itération augmente pour obtenir un niveau de perfomance désiré. Le coût d'itération est donc dépendent des nouvelles données dans l'échantillon analyser. À cause que de nouveaux échantillons moins représentatifs de l'ensemble des données ont quelquesfois augmenté la fonction optimale que nous désirons minimiser, ce pour quoi une technique de \"Early-Stopping\" serait adéquate s'il n'est pas possible d'exécuter l'algorithme pour une longue période de temps afin d'obtenir l'optimum. "
   ]
  },
  {
   "cell_type": "markdown",
   "metadata": {},
   "source": [
    "En bout de ligne, alors que la  taille de l'échantillon grandit, celui-ci devient plus représentatif de l'ensemble et on obtient une meilleure solution pour l'ensemble de fonctions/paires d'entrainement. Lorsque la taille de l'échantillon évalué devient égale (ou similaire) à la taille de l'ensemble des données d'apprentissage, l'algorithme agit un peu comme le Finite Gradient puisqu'il calcule le gradient idéal en prenant en compte le gradient des itérations antérieures. Cependant, à ce point dans l'algorithme, prendre en compte le gradient des itérations antérieures n'est probablement pas avantageux puisque l'échantillon comporte déjà toutes (ou presque) les données de l'ensemble. Les anciens gradients deviennentt donc une information désuète et le gradient calculé durant l'itération présente est probablement une meilleure estimation."
   ]
  },
  {
   "cell_type": "code",
   "execution_count": 380,
   "metadata": {},
   "outputs": [
    {
     "name": "stdout",
     "output_type": "stream",
     "text": [
      "SG Temps pour 1000 itérations:  0.7366669293014857  secondes\n",
      "FD Temps pour 1 itération:  15.659318439675554  secondes\n",
      "SAG Temps pour 1000 itérations:  1.6737234646915748  secondes\n",
      "RetroApprox Temps pour 1 itération:  12.728815621713874  secondes\n"
     ]
    }
   ],
   "source": [
    "print(\"SG Temps pour 1000 itérations: \", np.array(trainLogSG[\"time\"]).mean() * 1000 , \" secondes\")\n",
    "print(\"FD Temps pour 1 itération: \", np.array(trainLogFD[\"time\"]).mean(), \" secondes\")\n",
    "print(\"SAG Temps pour 1000 itérations: \", np.array(trainLogSAG[\"time\"][:800]).mean(), \" secondes\")\n",
    "print(\"RetroApprox Temps pour 1 itération: \", np.array(trainLogRetro[\"time\"]).mean(), \" secondes\")"
   ]
  },
  {
   "cell_type": "markdown",
   "metadata": {},
   "source": [
    "Au départ, puisque l'échantillon est très petit, les itérations sont très rapide. Cependant, lorsque l'échantillon est grand, si les nouvelles paires de données de celui-ci sont plus ou moins similaires aux données antérieures, l'algorithme peut prendre un laps de temps considérable. C'est pour cette raison qu'une itération prend (dans notre cas) presque autant de temps qu'une de l'algorithme du Finite Difference."
   ]
  },
  {
   "cell_type": "code",
   "execution_count": 378,
   "metadata": {},
   "outputs": [
    {
     "data": {
      "image/png": "[encoded data removed]",
      "text/plain": [
       "<Figure size 432x288 with 1 Axes>"
      ]
     },
     "metadata": {
      "needs_background": "light"
     },
     "output_type": "display_data"
    }
   ],
   "source": [
    "plt.plot(trainLogRetro[\"time\"], color='Blue')\n",
    "\n",
    "plt.xlabel('Itérations')\n",
    "plt.ylabel('Temps par itération')\n",
    "\n",
    "plt.legend([\"Retrospective Appoximation\"])\n",
    "plt.title(\"Convergence de l'erreur d\\'entropie croisée des 3 algorithmes sur le dataset MNIST\")\n",
    "plt.show()"
   ]
  },
  {
   "cell_type": "markdown",
   "metadata": {},
   "source": [
    "Comme nous pouvons voir, certaines itérations prennent un laps de temps minime en comparaison à d'autres lorsque les nouvelles données/fonctions de l'échantillon sont mal représentées par les données antérieures de l'échantillon. "
   ]
  },
  {
   "cell_type": "markdown",
   "metadata": {},
   "source": [
    "### Validation"
   ]
  },
  {
   "cell_type": "code",
   "execution_count": 381,
   "metadata": {},
   "outputs": [
    {
     "name": "stderr",
     "output_type": "stream",
     "text": [
      "/Users/francoisdavid/miniconda3/lib/python3.7/site-packages/IPython/core/pylabtools.py:128: UserWarning: Creating legend with loc=\"best\" can be slow with large amounts of data.\n",
      "  fig.canvas.print_figure(bytes_io, **kw)\n"
     ]
    },
    {
     "data": {
      "image/png": "[encoded data removed]",
      "text/plain": [
       "<Figure size 432x288 with 1 Axes>"
      ]
     },
     "metadata": {
      "needs_background": "light"
     },
     "output_type": "display_data"
    }
   ],
   "source": [
    "plt.plot(calculatesTimes(trainLogSG[\"time\"]), trainLogSG[\"validation_lossSG\"] , color='Blue')\n",
    "plt.plot(calculatesTimes(trainLogFD[\"time\"]), trainLogFD[\"validation_lossFD\"], color ='Red' )\n",
    "plt.plot(calculatesTimes(trainLogSAG[\"time\"][:800]), trainLogSAG[\"validation_lossFD\"][:800] ,color='Pink')\n",
    "plt.plot(calculatesTimes(trainLogRetro[\"time\"]), trainLogRetro[\"validation_lossFD\"] , color='Yellow')\n",
    "\n",
    "plt.xlabel('Temps en Secondes')\n",
    "plt.ylabel('Erreur d\\'entropie croisée')\n",
    "\n",
    "plt.legend([\"Stochastic Gradient\", \"Finite  Gradient\" , \"Stochastic Average Gradient\", \"Retrospective Appoximation\"])\n",
    "plt.title(\"Convergence de l'erreur d\\'entropie croisée des 3 algorithmes sur le dataset MNIST\")\n",
    "plt.show()"
   ]
  },
  {
   "cell_type": "markdown",
   "metadata": {},
   "source": [
    "Nous pouvons voir que l'évaluation de l'algorithme sur l'ensemble de validation démontre les mêmes tendances qu'avec l'ensemble d'entrainement. Donc cela signifie que les tendances sont représentatives des données similaires au MNIST et le modèle peut performer de manière similaire sur de nouvelles images du même type."
   ]
  },
  {
   "cell_type": "markdown",
   "metadata": {},
   "source": [
    "Il serait intéressant d'explorer certains ajustements des paramètres pour améliorer la convergence de cet algorithme. Quoiqu'il ne soit pas aussi performant que le SAG, il semble prometteur puisque l'algorithme converge assez rapidement vers le minimum espéré. "
   ]
  },
  {
   "cell_type": "code",
   "execution_count": null,
   "metadata": {},
   "outputs": [],
   "source": []
  }
 ],
 "metadata": {
  "kernelspec": {
   "display_name": "Python 3",
   "language": "python",
   "name": "python3"
  },
  "language_info": {
   "codemirror_mode": {
    "name": "ipython",
    "version": 3
   },
   "file_extension": ".py",
   "mimetype": "text/x-python",
   "name": "python",
   "nbconvert_exporter": "python",
   "pygments_lexer": "ipython3",
   "version": "3.7.4"
  }
 },
 "nbformat": 4,
 "nbformat_minor": 4
}
